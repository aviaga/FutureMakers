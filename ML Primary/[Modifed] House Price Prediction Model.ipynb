{
  "nbformat": 4,
  "nbformat_minor": 0,
  "metadata": {
    "colab": {
      "name": "Day 18 (7-23) - Project (Supplemental) on Creating a Model for House Prices (Regression).ipynb",
      "provenance": [],
      "authorship_tag": "ABX9TyNlzhjOR9zhAzED5tyb6YJt",
      "include_colab_link": true
    },
    "kernelspec": {
      "name": "python3",
      "display_name": "Python 3"
    },
    "language_info": {
      "name": "python"
    }
  },
  "cells": [
    {
      "cell_type": "markdown",
      "metadata": {
        "id": "view-in-github",
        "colab_type": "text"
      },
      "source": [
        "<a href=\"https://colab.research.google.com/github/aviaga/FutureMakers/blob/main/ML%20Primary/%5BModifed%5D%20House%20Price%20Prediction%20Model.ipynb\" target=\"_parent\"><img src=\"https://colab.research.google.com/assets/colab-badge.svg\" alt=\"Open In Colab\"/></a>"
      ]
    },
    {
      "cell_type": "markdown",
      "metadata": {
        "id": "JsAbz38VLt7w"
      },
      "source": [
        "# Project Introduction\n",
        "This is the implementation of the supplemental activity of Day 18's Action Item for SureStart's summer program, 2021. The modified line of code is under Model 1; no other sections have been changed from earlier. \n",
        "\n",
        "The tutorial for this model development activity can be found [ here](https://hackernoon.com/build-your-first-neural-network-to-predict-house-prices-with-keras-3fb0839680f4)\n",
        "\n"
      ]
    },
    {
      "cell_type": "markdown",
      "metadata": {
        "id": "Xh11EA5VLIt0"
      },
      "source": [
        "# Model 1"
      ]
    },
    {
      "cell_type": "markdown",
      "metadata": {
        "id": "toQyYkNy6bLJ"
      },
      "source": [
        " **Data Preprocessing Steps**"
      ]
    },
    {
      "cell_type": "code",
      "metadata": {
        "id": "sElmQypqaprH"
      },
      "source": [
        "#Importing necessary libraries\n",
        "import pandas as pd\n",
        "from sklearn import preprocessing\n",
        "from sklearn.model_selection import train_test_split\n",
        "import tensorflow as tf\n"
      ],
      "execution_count": 31,
      "outputs": []
    },
    {
      "cell_type": "code",
      "metadata": {
        "id": "uVrLCVvobdpx",
        "colab": {
          "resources": {
            "http://localhost:8080/nbextensions/google.colab/files.js": {
              "data": "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",
              "ok": true,
              "headers": [
                [
                  "content-type",
                  "application/javascript"
                ]
              ],
              "status": 200,
              "status_text": ""
            }
          },
          "base_uri": "https://localhost:8080/",
          "height": 73
        },
        "outputId": "75f57aad-3089-41ca-9579-6d6c04014390"
      },
      "source": [
        "#Importing dataset \n",
        "from google.colab import files\n",
        "uploaded = files.upload()"
      ],
      "execution_count": 32,
      "outputs": [
        {
          "output_type": "display_data",
          "data": {
            "text/html": [
              "\n",
              "     <input type=\"file\" id=\"files-147a5eb1-57e0-46a1-9b8e-14af8552f398\" name=\"files[]\" multiple disabled\n",
              "        style=\"border:none\" />\n",
              "     <output id=\"result-147a5eb1-57e0-46a1-9b8e-14af8552f398\">\n",
              "      Upload widget is only available when the cell has been executed in the\n",
              "      current browser session. Please rerun this cell to enable.\n",
              "      </output>\n",
              "      <script src=\"/nbextensions/google.colab/files.js\"></script> "
            ],
            "text/plain": [
              "<IPython.core.display.HTML object>"
            ]
          },
          "metadata": {
            "tags": []
          }
        },
        {
          "output_type": "stream",
          "text": [
            "Saving housepricedata.csv to housepricedata (1).csv\n"
          ],
          "name": "stdout"
        }
      ]
    },
    {
      "cell_type": "code",
      "metadata": {
        "id": "KLkuMd3adBUU"
      },
      "source": [
        "#Importing dataset\n",
        "import io\n",
        "df = pd.read_csv(io.BytesIO(uploaded['housepricedata.csv']))"
      ],
      "execution_count": 33,
      "outputs": []
    },
    {
      "cell_type": "code",
      "metadata": {
        "id": "OQh96qXr-ysW",
        "colab": {
          "base_uri": "https://localhost:8080/",
          "height": 417
        },
        "outputId": "d8375cca-f088-4bc0-e51d-293625068caf"
      },
      "source": [
        "df"
      ],
      "execution_count": 34,
      "outputs": [
        {
          "output_type": "execute_result",
          "data": {
            "text/html": [
              "<div>\n",
              "<style scoped>\n",
              "    .dataframe tbody tr th:only-of-type {\n",
              "        vertical-align: middle;\n",
              "    }\n",
              "\n",
              "    .dataframe tbody tr th {\n",
              "        vertical-align: top;\n",
              "    }\n",
              "\n",
              "    .dataframe thead th {\n",
              "        text-align: right;\n",
              "    }\n",
              "</style>\n",
              "<table border=\"1\" class=\"dataframe\">\n",
              "  <thead>\n",
              "    <tr style=\"text-align: right;\">\n",
              "      <th></th>\n",
              "      <th>LotArea</th>\n",
              "      <th>OverallQual</th>\n",
              "      <th>OverallCond</th>\n",
              "      <th>TotalBsmtSF</th>\n",
              "      <th>FullBath</th>\n",
              "      <th>HalfBath</th>\n",
              "      <th>BedroomAbvGr</th>\n",
              "      <th>TotRmsAbvGrd</th>\n",
              "      <th>Fireplaces</th>\n",
              "      <th>GarageArea</th>\n",
              "      <th>AboveMedianPrice</th>\n",
              "    </tr>\n",
              "  </thead>\n",
              "  <tbody>\n",
              "    <tr>\n",
              "      <th>0</th>\n",
              "      <td>8450</td>\n",
              "      <td>7</td>\n",
              "      <td>5</td>\n",
              "      <td>856</td>\n",
              "      <td>2</td>\n",
              "      <td>1</td>\n",
              "      <td>3</td>\n",
              "      <td>8</td>\n",
              "      <td>0</td>\n",
              "      <td>548</td>\n",
              "      <td>1</td>\n",
              "    </tr>\n",
              "    <tr>\n",
              "      <th>1</th>\n",
              "      <td>9600</td>\n",
              "      <td>6</td>\n",
              "      <td>8</td>\n",
              "      <td>1262</td>\n",
              "      <td>2</td>\n",
              "      <td>0</td>\n",
              "      <td>3</td>\n",
              "      <td>6</td>\n",
              "      <td>1</td>\n",
              "      <td>460</td>\n",
              "      <td>1</td>\n",
              "    </tr>\n",
              "    <tr>\n",
              "      <th>2</th>\n",
              "      <td>11250</td>\n",
              "      <td>7</td>\n",
              "      <td>5</td>\n",
              "      <td>920</td>\n",
              "      <td>2</td>\n",
              "      <td>1</td>\n",
              "      <td>3</td>\n",
              "      <td>6</td>\n",
              "      <td>1</td>\n",
              "      <td>608</td>\n",
              "      <td>1</td>\n",
              "    </tr>\n",
              "    <tr>\n",
              "      <th>3</th>\n",
              "      <td>9550</td>\n",
              "      <td>7</td>\n",
              "      <td>5</td>\n",
              "      <td>756</td>\n",
              "      <td>1</td>\n",
              "      <td>0</td>\n",
              "      <td>3</td>\n",
              "      <td>7</td>\n",
              "      <td>1</td>\n",
              "      <td>642</td>\n",
              "      <td>0</td>\n",
              "    </tr>\n",
              "    <tr>\n",
              "      <th>4</th>\n",
              "      <td>14260</td>\n",
              "      <td>8</td>\n",
              "      <td>5</td>\n",
              "      <td>1145</td>\n",
              "      <td>2</td>\n",
              "      <td>1</td>\n",
              "      <td>4</td>\n",
              "      <td>9</td>\n",
              "      <td>1</td>\n",
              "      <td>836</td>\n",
              "      <td>1</td>\n",
              "    </tr>\n",
              "    <tr>\n",
              "      <th>...</th>\n",
              "      <td>...</td>\n",
              "      <td>...</td>\n",
              "      <td>...</td>\n",
              "      <td>...</td>\n",
              "      <td>...</td>\n",
              "      <td>...</td>\n",
              "      <td>...</td>\n",
              "      <td>...</td>\n",
              "      <td>...</td>\n",
              "      <td>...</td>\n",
              "      <td>...</td>\n",
              "    </tr>\n",
              "    <tr>\n",
              "      <th>1455</th>\n",
              "      <td>7917</td>\n",
              "      <td>6</td>\n",
              "      <td>5</td>\n",
              "      <td>953</td>\n",
              "      <td>2</td>\n",
              "      <td>1</td>\n",
              "      <td>3</td>\n",
              "      <td>7</td>\n",
              "      <td>1</td>\n",
              "      <td>460</td>\n",
              "      <td>1</td>\n",
              "    </tr>\n",
              "    <tr>\n",
              "      <th>1456</th>\n",
              "      <td>13175</td>\n",
              "      <td>6</td>\n",
              "      <td>6</td>\n",
              "      <td>1542</td>\n",
              "      <td>2</td>\n",
              "      <td>0</td>\n",
              "      <td>3</td>\n",
              "      <td>7</td>\n",
              "      <td>2</td>\n",
              "      <td>500</td>\n",
              "      <td>1</td>\n",
              "    </tr>\n",
              "    <tr>\n",
              "      <th>1457</th>\n",
              "      <td>9042</td>\n",
              "      <td>7</td>\n",
              "      <td>9</td>\n",
              "      <td>1152</td>\n",
              "      <td>2</td>\n",
              "      <td>0</td>\n",
              "      <td>4</td>\n",
              "      <td>9</td>\n",
              "      <td>2</td>\n",
              "      <td>252</td>\n",
              "      <td>1</td>\n",
              "    </tr>\n",
              "    <tr>\n",
              "      <th>1458</th>\n",
              "      <td>9717</td>\n",
              "      <td>5</td>\n",
              "      <td>6</td>\n",
              "      <td>1078</td>\n",
              "      <td>1</td>\n",
              "      <td>0</td>\n",
              "      <td>2</td>\n",
              "      <td>5</td>\n",
              "      <td>0</td>\n",
              "      <td>240</td>\n",
              "      <td>0</td>\n",
              "    </tr>\n",
              "    <tr>\n",
              "      <th>1459</th>\n",
              "      <td>9937</td>\n",
              "      <td>5</td>\n",
              "      <td>6</td>\n",
              "      <td>1256</td>\n",
              "      <td>1</td>\n",
              "      <td>1</td>\n",
              "      <td>3</td>\n",
              "      <td>6</td>\n",
              "      <td>0</td>\n",
              "      <td>276</td>\n",
              "      <td>0</td>\n",
              "    </tr>\n",
              "  </tbody>\n",
              "</table>\n",
              "<p>1460 rows × 11 columns</p>\n",
              "</div>"
            ],
            "text/plain": [
              "      LotArea  OverallQual  ...  GarageArea  AboveMedianPrice\n",
              "0        8450            7  ...         548                 1\n",
              "1        9600            6  ...         460                 1\n",
              "2       11250            7  ...         608                 1\n",
              "3        9550            7  ...         642                 0\n",
              "4       14260            8  ...         836                 1\n",
              "...       ...          ...  ...         ...               ...\n",
              "1455     7917            6  ...         460                 1\n",
              "1456    13175            6  ...         500                 1\n",
              "1457     9042            7  ...         252                 1\n",
              "1458     9717            5  ...         240                 0\n",
              "1459     9937            5  ...         276                 0\n",
              "\n",
              "[1460 rows x 11 columns]"
            ]
          },
          "metadata": {
            "tags": []
          },
          "execution_count": 34
        }
      ]
    },
    {
      "cell_type": "code",
      "metadata": {
        "id": "Otsyw9HOdWh3"
      },
      "source": [
        "#Converting data to array format\n",
        "dataset = df.values"
      ],
      "execution_count": 35,
      "outputs": []
    },
    {
      "cell_type": "code",
      "metadata": {
        "id": "or5tEvNj3nc-"
      },
      "source": [
        "#Assigning first 10 columns of data in array to x\n",
        "X = dataset[:,0:10]"
      ],
      "execution_count": 36,
      "outputs": []
    },
    {
      "cell_type": "code",
      "metadata": {
        "id": "g7VZ_Csd4HSf"
      },
      "source": [
        "#Assigning last column of data in array to y\n",
        "Y = dataset[:,10]"
      ],
      "execution_count": 37,
      "outputs": []
    },
    {
      "cell_type": "code",
      "metadata": {
        "id": "S5joxzVb4pxt"
      },
      "source": [
        "#Scaling data for normalization\n",
        "min_max_scaler = preprocessing.MinMaxScaler()\n",
        "X_scale = min_max_scaler.fit_transform(X)"
      ],
      "execution_count": 38,
      "outputs": []
    },
    {
      "cell_type": "code",
      "metadata": {
        "id": "QSobnnac46jG",
        "colab": {
          "base_uri": "https://localhost:8080/"
        },
        "outputId": "757765de-f98e-42ba-df67-81fe15daa78a"
      },
      "source": [
        "X_scale"
      ],
      "execution_count": 39,
      "outputs": [
        {
          "output_type": "execute_result",
          "data": {
            "text/plain": [
              "array([[0.0334198 , 0.66666667, 0.5       , ..., 0.5       , 0.        ,\n",
              "        0.3864598 ],\n",
              "       [0.03879502, 0.55555556, 0.875     , ..., 0.33333333, 0.33333333,\n",
              "        0.32440056],\n",
              "       [0.04650728, 0.66666667, 0.5       , ..., 0.33333333, 0.33333333,\n",
              "        0.42877292],\n",
              "       ...,\n",
              "       [0.03618687, 0.66666667, 1.        , ..., 0.58333333, 0.66666667,\n",
              "        0.17771509],\n",
              "       [0.03934189, 0.44444444, 0.625     , ..., 0.25      , 0.        ,\n",
              "        0.16925247],\n",
              "       [0.04037019, 0.44444444, 0.625     , ..., 0.33333333, 0.        ,\n",
              "        0.19464034]])"
            ]
          },
          "metadata": {
            "tags": []
          },
          "execution_count": 39
        }
      ]
    },
    {
      "cell_type": "code",
      "metadata": {
        "id": "JgRIa3Vb5R__"
      },
      "source": [
        "#Splitting dataset into train, test, and validation sets\n",
        "X_train, X_val_and_test, Y_train, Y_val_and_test = train_test_split(X_scale, Y, test_size=0.3)\n",
        "X_val, X_test, Y_val, Y_test = train_test_split(X_val_and_test, Y_val_and_test, test_size=0.5)"
      ],
      "execution_count": 40,
      "outputs": []
    },
    {
      "cell_type": "code",
      "metadata": {
        "id": "6m0TcEvo5oEL",
        "colab": {
          "base_uri": "https://localhost:8080/"
        },
        "outputId": "49e7ec82-3afd-4d11-c9d3-f78adb65d380"
      },
      "source": [
        "print(X_train.shape, X_val.shape, X_test.shape, Y_train.shape, Y_val.shape, Y_test.shape)"
      ],
      "execution_count": 41,
      "outputs": [
        {
          "output_type": "stream",
          "text": [
            "(1022, 10) (219, 10) (219, 10) (1022,) (219,) (219,)\n"
          ],
          "name": "stdout"
        }
      ]
    },
    {
      "cell_type": "markdown",
      "metadata": {
        "id": "ZMGpSuKr7aND"
      },
      "source": [
        "**Building and Training the Model**"
      ]
    },
    {
      "cell_type": "code",
      "metadata": {
        "id": "e6q6g-gY6Gm3"
      },
      "source": [
        "#Importing necessary libraries\n",
        "from keras.models import Sequential\n",
        "from keras.layers import Dense"
      ],
      "execution_count": 42,
      "outputs": []
    },
    {
      "cell_type": "code",
      "metadata": {
        "id": "lraI8aFk7ezW"
      },
      "source": [
        "#Defining model architecture/structure\n",
        "model = Sequential([\n",
        "    Dense(32, activation='relu', input_shape=(10,)),\n",
        "    Dense(32, activation='relu'),\n",
        "    Dense(1, activation='sigmoid'),\n",
        "])"
      ],
      "execution_count": 43,
      "outputs": []
    },
    {
      "cell_type": "code",
      "metadata": {
        "id": "RMlNo-Wb7uQy"
      },
      "source": [
        "# Model configuration\n",
        "# CHANGED LOSS TO MEAN SQUARED ERROR\n",
        "model.compile(optimizer='sgd',\n",
        "              loss=tf.keras.losses.MeanSquaredError(),\n",
        "              metrics=['accuracy'])"
      ],
      "execution_count": 44,
      "outputs": []
    },
    {
      "cell_type": "code",
      "metadata": {
        "id": "I-e2ZCEI77Az",
        "colab": {
          "base_uri": "https://localhost:8080/"
        },
        "outputId": "34a967ce-f80b-4a1e-81af-bd5fdb0772c9"
      },
      "source": [
        "#Training model\n",
        "hist = model.fit(X_train, Y_train,\n",
        "          batch_size=32, epochs=100,\n",
        "          validation_data=(X_val, Y_val))"
      ],
      "execution_count": 47,
      "outputs": [
        {
          "output_type": "stream",
          "text": [
            "Epoch 1/100\n",
            "32/32 [==============================] - 0s 3ms/step - loss: 0.1137 - accuracy: 0.8748 - val_loss: 0.1177 - val_accuracy: 0.8493\n",
            "Epoch 2/100\n",
            "32/32 [==============================] - 0s 2ms/step - loss: 0.1130 - accuracy: 0.8748 - val_loss: 0.1170 - val_accuracy: 0.8539\n",
            "Epoch 3/100\n",
            "32/32 [==============================] - 0s 2ms/step - loss: 0.1124 - accuracy: 0.8748 - val_loss: 0.1156 - val_accuracy: 0.8584\n",
            "Epoch 4/100\n",
            "32/32 [==============================] - 0s 2ms/step - loss: 0.1118 - accuracy: 0.8748 - val_loss: 0.1152 - val_accuracy: 0.8584\n",
            "Epoch 5/100\n",
            "32/32 [==============================] - 0s 3ms/step - loss: 0.1114 - accuracy: 0.8777 - val_loss: 0.1148 - val_accuracy: 0.8584\n",
            "Epoch 6/100\n",
            "32/32 [==============================] - 0s 3ms/step - loss: 0.1107 - accuracy: 0.8796 - val_loss: 0.1147 - val_accuracy: 0.8584\n",
            "Epoch 7/100\n",
            "32/32 [==============================] - 0s 3ms/step - loss: 0.1101 - accuracy: 0.8738 - val_loss: 0.1139 - val_accuracy: 0.8584\n",
            "Epoch 8/100\n",
            "32/32 [==============================] - 0s 3ms/step - loss: 0.1096 - accuracy: 0.8738 - val_loss: 0.1134 - val_accuracy: 0.8630\n",
            "Epoch 9/100\n",
            "32/32 [==============================] - 0s 3ms/step - loss: 0.1090 - accuracy: 0.8748 - val_loss: 0.1125 - val_accuracy: 0.8584\n",
            "Epoch 10/100\n",
            "32/32 [==============================] - 0s 2ms/step - loss: 0.1085 - accuracy: 0.8816 - val_loss: 0.1129 - val_accuracy: 0.8630\n",
            "Epoch 11/100\n",
            "32/32 [==============================] - 0s 3ms/step - loss: 0.1081 - accuracy: 0.8787 - val_loss: 0.1124 - val_accuracy: 0.8630\n",
            "Epoch 12/100\n",
            "32/32 [==============================] - 0s 2ms/step - loss: 0.1076 - accuracy: 0.8748 - val_loss: 0.1117 - val_accuracy: 0.8630\n",
            "Epoch 13/100\n",
            "32/32 [==============================] - 0s 3ms/step - loss: 0.1071 - accuracy: 0.8767 - val_loss: 0.1110 - val_accuracy: 0.8630\n",
            "Epoch 14/100\n",
            "32/32 [==============================] - 0s 2ms/step - loss: 0.1066 - accuracy: 0.8767 - val_loss: 0.1109 - val_accuracy: 0.8630\n",
            "Epoch 15/100\n",
            "32/32 [==============================] - 0s 2ms/step - loss: 0.1061 - accuracy: 0.8767 - val_loss: 0.1105 - val_accuracy: 0.8630\n",
            "Epoch 16/100\n",
            "32/32 [==============================] - 0s 3ms/step - loss: 0.1056 - accuracy: 0.8777 - val_loss: 0.1099 - val_accuracy: 0.8630\n",
            "Epoch 17/100\n",
            "32/32 [==============================] - 0s 3ms/step - loss: 0.1051 - accuracy: 0.8767 - val_loss: 0.1101 - val_accuracy: 0.8584\n",
            "Epoch 18/100\n",
            "32/32 [==============================] - 0s 2ms/step - loss: 0.1048 - accuracy: 0.8767 - val_loss: 0.1095 - val_accuracy: 0.8584\n",
            "Epoch 19/100\n",
            "32/32 [==============================] - 0s 2ms/step - loss: 0.1043 - accuracy: 0.8767 - val_loss: 0.1089 - val_accuracy: 0.8584\n",
            "Epoch 20/100\n",
            "32/32 [==============================] - 0s 2ms/step - loss: 0.1039 - accuracy: 0.8767 - val_loss: 0.1086 - val_accuracy: 0.8584\n",
            "Epoch 21/100\n",
            "32/32 [==============================] - 0s 2ms/step - loss: 0.1035 - accuracy: 0.8767 - val_loss: 0.1080 - val_accuracy: 0.8630\n",
            "Epoch 22/100\n",
            "32/32 [==============================] - 0s 2ms/step - loss: 0.1031 - accuracy: 0.8777 - val_loss: 0.1075 - val_accuracy: 0.8584\n",
            "Epoch 23/100\n",
            "32/32 [==============================] - 0s 2ms/step - loss: 0.1026 - accuracy: 0.8796 - val_loss: 0.1071 - val_accuracy: 0.8584\n",
            "Epoch 24/100\n",
            "32/32 [==============================] - 0s 2ms/step - loss: 0.1023 - accuracy: 0.8806 - val_loss: 0.1068 - val_accuracy: 0.8584\n",
            "Epoch 25/100\n",
            "32/32 [==============================] - 0s 2ms/step - loss: 0.1019 - accuracy: 0.8777 - val_loss: 0.1072 - val_accuracy: 0.8630\n",
            "Epoch 26/100\n",
            "32/32 [==============================] - 0s 2ms/step - loss: 0.1015 - accuracy: 0.8787 - val_loss: 0.1064 - val_accuracy: 0.8584\n",
            "Epoch 27/100\n",
            "32/32 [==============================] - 0s 2ms/step - loss: 0.1012 - accuracy: 0.8796 - val_loss: 0.1067 - val_accuracy: 0.8584\n",
            "Epoch 28/100\n",
            "32/32 [==============================] - 0s 2ms/step - loss: 0.1009 - accuracy: 0.8796 - val_loss: 0.1065 - val_accuracy: 0.8584\n",
            "Epoch 29/100\n",
            "32/32 [==============================] - 0s 3ms/step - loss: 0.1005 - accuracy: 0.8796 - val_loss: 0.1066 - val_accuracy: 0.8630\n",
            "Epoch 30/100\n",
            "32/32 [==============================] - 0s 2ms/step - loss: 0.1002 - accuracy: 0.8787 - val_loss: 0.1061 - val_accuracy: 0.8584\n",
            "Epoch 31/100\n",
            "32/32 [==============================] - 0s 2ms/step - loss: 0.0998 - accuracy: 0.8787 - val_loss: 0.1063 - val_accuracy: 0.8584\n",
            "Epoch 32/100\n",
            "32/32 [==============================] - 0s 2ms/step - loss: 0.0995 - accuracy: 0.8796 - val_loss: 0.1054 - val_accuracy: 0.8539\n",
            "Epoch 33/100\n",
            "32/32 [==============================] - 0s 2ms/step - loss: 0.0992 - accuracy: 0.8816 - val_loss: 0.1048 - val_accuracy: 0.8539\n",
            "Epoch 34/100\n",
            "32/32 [==============================] - 0s 2ms/step - loss: 0.0988 - accuracy: 0.8796 - val_loss: 0.1045 - val_accuracy: 0.8539\n",
            "Epoch 35/100\n",
            "32/32 [==============================] - 0s 2ms/step - loss: 0.0985 - accuracy: 0.8806 - val_loss: 0.1039 - val_accuracy: 0.8539\n",
            "Epoch 36/100\n",
            "32/32 [==============================] - 0s 2ms/step - loss: 0.0982 - accuracy: 0.8796 - val_loss: 0.1042 - val_accuracy: 0.8539\n",
            "Epoch 37/100\n",
            "32/32 [==============================] - 0s 2ms/step - loss: 0.0979 - accuracy: 0.8836 - val_loss: 0.1032 - val_accuracy: 0.8539\n",
            "Epoch 38/100\n",
            "32/32 [==============================] - 0s 2ms/step - loss: 0.0977 - accuracy: 0.8796 - val_loss: 0.1034 - val_accuracy: 0.8539\n",
            "Epoch 39/100\n",
            "32/32 [==============================] - 0s 2ms/step - loss: 0.0974 - accuracy: 0.8787 - val_loss: 0.1029 - val_accuracy: 0.8539\n",
            "Epoch 40/100\n",
            "32/32 [==============================] - 0s 2ms/step - loss: 0.0971 - accuracy: 0.8796 - val_loss: 0.1029 - val_accuracy: 0.8539\n",
            "Epoch 41/100\n",
            "32/32 [==============================] - 0s 2ms/step - loss: 0.0968 - accuracy: 0.8806 - val_loss: 0.1030 - val_accuracy: 0.8539\n",
            "Epoch 42/100\n",
            "32/32 [==============================] - 0s 2ms/step - loss: 0.0965 - accuracy: 0.8806 - val_loss: 0.1025 - val_accuracy: 0.8539\n",
            "Epoch 43/100\n",
            "32/32 [==============================] - 0s 2ms/step - loss: 0.0963 - accuracy: 0.8787 - val_loss: 0.1024 - val_accuracy: 0.8539\n",
            "Epoch 44/100\n",
            "32/32 [==============================] - 0s 2ms/step - loss: 0.0960 - accuracy: 0.8787 - val_loss: 0.1024 - val_accuracy: 0.8493\n",
            "Epoch 45/100\n",
            "32/32 [==============================] - 0s 3ms/step - loss: 0.0958 - accuracy: 0.8826 - val_loss: 0.1018 - val_accuracy: 0.8630\n",
            "Epoch 46/100\n",
            "32/32 [==============================] - 0s 2ms/step - loss: 0.0956 - accuracy: 0.8796 - val_loss: 0.1018 - val_accuracy: 0.8584\n",
            "Epoch 47/100\n",
            "32/32 [==============================] - 0s 2ms/step - loss: 0.0953 - accuracy: 0.8806 - val_loss: 0.1016 - val_accuracy: 0.8630\n",
            "Epoch 48/100\n",
            "32/32 [==============================] - 0s 2ms/step - loss: 0.0950 - accuracy: 0.8806 - val_loss: 0.1016 - val_accuracy: 0.8539\n",
            "Epoch 49/100\n",
            "32/32 [==============================] - 0s 2ms/step - loss: 0.0948 - accuracy: 0.8816 - val_loss: 0.1016 - val_accuracy: 0.8539\n",
            "Epoch 50/100\n",
            "32/32 [==============================] - 0s 2ms/step - loss: 0.0946 - accuracy: 0.8806 - val_loss: 0.1016 - val_accuracy: 0.8584\n",
            "Epoch 51/100\n",
            "32/32 [==============================] - 0s 2ms/step - loss: 0.0944 - accuracy: 0.8826 - val_loss: 0.1013 - val_accuracy: 0.8630\n",
            "Epoch 52/100\n",
            "32/32 [==============================] - 0s 2ms/step - loss: 0.0941 - accuracy: 0.8826 - val_loss: 0.1012 - val_accuracy: 0.8630\n",
            "Epoch 53/100\n",
            "32/32 [==============================] - 0s 3ms/step - loss: 0.0939 - accuracy: 0.8806 - val_loss: 0.1013 - val_accuracy: 0.8584\n",
            "Epoch 54/100\n",
            "32/32 [==============================] - 0s 2ms/step - loss: 0.0937 - accuracy: 0.8836 - val_loss: 0.1009 - val_accuracy: 0.8630\n",
            "Epoch 55/100\n",
            "32/32 [==============================] - 0s 2ms/step - loss: 0.0935 - accuracy: 0.8836 - val_loss: 0.1006 - val_accuracy: 0.8584\n",
            "Epoch 56/100\n",
            "32/32 [==============================] - 0s 3ms/step - loss: 0.0933 - accuracy: 0.8836 - val_loss: 0.1004 - val_accuracy: 0.8630\n",
            "Epoch 57/100\n",
            "32/32 [==============================] - 0s 2ms/step - loss: 0.0931 - accuracy: 0.8836 - val_loss: 0.1004 - val_accuracy: 0.8630\n",
            "Epoch 58/100\n",
            "32/32 [==============================] - 0s 2ms/step - loss: 0.0929 - accuracy: 0.8836 - val_loss: 0.0999 - val_accuracy: 0.8584\n",
            "Epoch 59/100\n",
            "32/32 [==============================] - 0s 2ms/step - loss: 0.0928 - accuracy: 0.8826 - val_loss: 0.0999 - val_accuracy: 0.8584\n",
            "Epoch 60/100\n",
            "32/32 [==============================] - 0s 2ms/step - loss: 0.0924 - accuracy: 0.8845 - val_loss: 0.1000 - val_accuracy: 0.8630\n",
            "Epoch 61/100\n",
            "32/32 [==============================] - 0s 2ms/step - loss: 0.0923 - accuracy: 0.8836 - val_loss: 0.0996 - val_accuracy: 0.8584\n",
            "Epoch 62/100\n",
            "32/32 [==============================] - 0s 2ms/step - loss: 0.0921 - accuracy: 0.8845 - val_loss: 0.0991 - val_accuracy: 0.8630\n",
            "Epoch 63/100\n",
            "32/32 [==============================] - 0s 2ms/step - loss: 0.0919 - accuracy: 0.8855 - val_loss: 0.0992 - val_accuracy: 0.8584\n",
            "Epoch 64/100\n",
            "32/32 [==============================] - 0s 2ms/step - loss: 0.0917 - accuracy: 0.8826 - val_loss: 0.0997 - val_accuracy: 0.8630\n",
            "Epoch 65/100\n",
            "32/32 [==============================] - 0s 2ms/step - loss: 0.0915 - accuracy: 0.8816 - val_loss: 0.0995 - val_accuracy: 0.8630\n",
            "Epoch 66/100\n",
            "32/32 [==============================] - 0s 3ms/step - loss: 0.0914 - accuracy: 0.8836 - val_loss: 0.0993 - val_accuracy: 0.8630\n",
            "Epoch 67/100\n",
            "32/32 [==============================] - 0s 2ms/step - loss: 0.0913 - accuracy: 0.8845 - val_loss: 0.0991 - val_accuracy: 0.8630\n",
            "Epoch 68/100\n",
            "32/32 [==============================] - 0s 3ms/step - loss: 0.0910 - accuracy: 0.8855 - val_loss: 0.0984 - val_accuracy: 0.8630\n",
            "Epoch 69/100\n",
            "32/32 [==============================] - 0s 2ms/step - loss: 0.0909 - accuracy: 0.8865 - val_loss: 0.0991 - val_accuracy: 0.8630\n",
            "Epoch 70/100\n",
            "32/32 [==============================] - 0s 2ms/step - loss: 0.0907 - accuracy: 0.8826 - val_loss: 0.0988 - val_accuracy: 0.8630\n",
            "Epoch 71/100\n",
            "32/32 [==============================] - 0s 2ms/step - loss: 0.0905 - accuracy: 0.8865 - val_loss: 0.0986 - val_accuracy: 0.8630\n",
            "Epoch 72/100\n",
            "32/32 [==============================] - 0s 2ms/step - loss: 0.0904 - accuracy: 0.8855 - val_loss: 0.0981 - val_accuracy: 0.8584\n",
            "Epoch 73/100\n",
            "32/32 [==============================] - 0s 2ms/step - loss: 0.0901 - accuracy: 0.8875 - val_loss: 0.0975 - val_accuracy: 0.8630\n",
            "Epoch 74/100\n",
            "32/32 [==============================] - 0s 2ms/step - loss: 0.0900 - accuracy: 0.8836 - val_loss: 0.0985 - val_accuracy: 0.8630\n",
            "Epoch 75/100\n",
            "32/32 [==============================] - 0s 3ms/step - loss: 0.0899 - accuracy: 0.8865 - val_loss: 0.0981 - val_accuracy: 0.8584\n",
            "Epoch 76/100\n",
            "32/32 [==============================] - 0s 2ms/step - loss: 0.0897 - accuracy: 0.8865 - val_loss: 0.0978 - val_accuracy: 0.8584\n",
            "Epoch 77/100\n",
            "32/32 [==============================] - 0s 2ms/step - loss: 0.0896 - accuracy: 0.8845 - val_loss: 0.0977 - val_accuracy: 0.8630\n",
            "Epoch 78/100\n",
            "32/32 [==============================] - 0s 3ms/step - loss: 0.0895 - accuracy: 0.8836 - val_loss: 0.0981 - val_accuracy: 0.8630\n",
            "Epoch 79/100\n",
            "32/32 [==============================] - 0s 2ms/step - loss: 0.0893 - accuracy: 0.8875 - val_loss: 0.0980 - val_accuracy: 0.8630\n",
            "Epoch 80/100\n",
            "32/32 [==============================] - 0s 3ms/step - loss: 0.0891 - accuracy: 0.8865 - val_loss: 0.0983 - val_accuracy: 0.8676\n",
            "Epoch 81/100\n",
            "32/32 [==============================] - 0s 2ms/step - loss: 0.0890 - accuracy: 0.8875 - val_loss: 0.0978 - val_accuracy: 0.8630\n",
            "Epoch 82/100\n",
            "32/32 [==============================] - 0s 2ms/step - loss: 0.0890 - accuracy: 0.8865 - val_loss: 0.0973 - val_accuracy: 0.8584\n",
            "Epoch 83/100\n",
            "32/32 [==============================] - 0s 2ms/step - loss: 0.0888 - accuracy: 0.8865 - val_loss: 0.0975 - val_accuracy: 0.8584\n",
            "Epoch 84/100\n",
            "32/32 [==============================] - 0s 2ms/step - loss: 0.0886 - accuracy: 0.8865 - val_loss: 0.0976 - val_accuracy: 0.8630\n",
            "Epoch 85/100\n",
            "32/32 [==============================] - 0s 3ms/step - loss: 0.0884 - accuracy: 0.8875 - val_loss: 0.0982 - val_accuracy: 0.8676\n",
            "Epoch 86/100\n",
            "32/32 [==============================] - 0s 2ms/step - loss: 0.0883 - accuracy: 0.8885 - val_loss: 0.0972 - val_accuracy: 0.8584\n",
            "Epoch 87/100\n",
            "32/32 [==============================] - 0s 2ms/step - loss: 0.0882 - accuracy: 0.8875 - val_loss: 0.0975 - val_accuracy: 0.8676\n",
            "Epoch 88/100\n",
            "32/32 [==============================] - 0s 2ms/step - loss: 0.0881 - accuracy: 0.8914 - val_loss: 0.0965 - val_accuracy: 0.8630\n",
            "Epoch 89/100\n",
            "32/32 [==============================] - 0s 2ms/step - loss: 0.0879 - accuracy: 0.8885 - val_loss: 0.0963 - val_accuracy: 0.8630\n",
            "Epoch 90/100\n",
            "32/32 [==============================] - 0s 2ms/step - loss: 0.0878 - accuracy: 0.8875 - val_loss: 0.0963 - val_accuracy: 0.8630\n",
            "Epoch 91/100\n",
            "32/32 [==============================] - 0s 2ms/step - loss: 0.0877 - accuracy: 0.8885 - val_loss: 0.0970 - val_accuracy: 0.8676\n",
            "Epoch 92/100\n",
            "32/32 [==============================] - 0s 3ms/step - loss: 0.0876 - accuracy: 0.8894 - val_loss: 0.0970 - val_accuracy: 0.8676\n",
            "Epoch 93/100\n",
            "32/32 [==============================] - 0s 2ms/step - loss: 0.0874 - accuracy: 0.8885 - val_loss: 0.0968 - val_accuracy: 0.8676\n",
            "Epoch 94/100\n",
            "32/32 [==============================] - 0s 2ms/step - loss: 0.0873 - accuracy: 0.8885 - val_loss: 0.0970 - val_accuracy: 0.8676\n",
            "Epoch 95/100\n",
            "32/32 [==============================] - 0s 3ms/step - loss: 0.0873 - accuracy: 0.8904 - val_loss: 0.0963 - val_accuracy: 0.8630\n",
            "Epoch 96/100\n",
            "32/32 [==============================] - 0s 2ms/step - loss: 0.0870 - accuracy: 0.8894 - val_loss: 0.0959 - val_accuracy: 0.8630\n",
            "Epoch 97/100\n",
            "32/32 [==============================] - 0s 2ms/step - loss: 0.0870 - accuracy: 0.8885 - val_loss: 0.0959 - val_accuracy: 0.8630\n",
            "Epoch 98/100\n",
            "32/32 [==============================] - 0s 2ms/step - loss: 0.0869 - accuracy: 0.8904 - val_loss: 0.0968 - val_accuracy: 0.8676\n",
            "Epoch 99/100\n",
            "32/32 [==============================] - 0s 2ms/step - loss: 0.0868 - accuracy: 0.8914 - val_loss: 0.0962 - val_accuracy: 0.8676\n",
            "Epoch 100/100\n",
            "32/32 [==============================] - 0s 2ms/step - loss: 0.0867 - accuracy: 0.8914 - val_loss: 0.0961 - val_accuracy: 0.8676\n"
          ],
          "name": "stdout"
        }
      ]
    },
    {
      "cell_type": "code",
      "metadata": {
        "id": "_MeGEoCr9hop",
        "colab": {
          "base_uri": "https://localhost:8080/"
        },
        "outputId": "87b3771e-305d-42b8-d5cb-9fcc4e336643"
      },
      "source": [
        "#Evaluating model on test dataset\n",
        "model.evaluate(X_test, Y_test)[1]"
      ],
      "execution_count": 48,
      "outputs": [
        {
          "output_type": "stream",
          "text": [
            "7/7 [==============================] - 0s 2ms/step - loss: 0.0853 - accuracy: 0.8813\n"
          ],
          "name": "stdout"
        },
        {
          "output_type": "execute_result",
          "data": {
            "text/plain": [
              "0.8812785148620605"
            ]
          },
          "metadata": {
            "tags": []
          },
          "execution_count": 48
        }
      ]
    },
    {
      "cell_type": "markdown",
      "metadata": {
        "id": "OeXiqrE_BCeC"
      },
      "source": [
        "**Visualizing Loss & Accuracy**"
      ]
    },
    {
      "cell_type": "code",
      "metadata": {
        "id": "LZq7ttd7BGsd"
      },
      "source": [
        "#Import library\n",
        "import matplotlib.pyplot as plt"
      ],
      "execution_count": 17,
      "outputs": []
    },
    {
      "cell_type": "code",
      "metadata": {
        "id": "_ug9DgTcBUYA",
        "colab": {
          "base_uri": "https://localhost:8080/",
          "height": 295
        },
        "outputId": "47cf8d3e-3670-46be-c853-484241d4d797"
      },
      "source": [
        "#Visualizing the loss of the model on the training and validation dataset\n",
        "plt.plot(hist.history['loss'])\n",
        "plt.plot(hist.history['val_loss'])\n",
        "plt.title('Model loss')\n",
        "plt.ylabel('Loss')\n",
        "plt.xlabel('Epoch')\n",
        "plt.legend(['Train', 'Val'], loc='upper right')\n",
        "plt.show()"
      ],
      "execution_count": 18,
      "outputs": [
        {
          "output_type": "display_data",
          "data": {
            "image/png": "[encoded data removed]",
            "text/plain": [
              "<Figure size 432x288 with 1 Axes>"
            ]
          },
          "metadata": {
            "tags": [],
            "needs_background": "light"
          }
        }
      ]
    },
    {
      "cell_type": "code",
      "metadata": {
        "id": "WthMllbfB-bE",
        "colab": {
          "base_uri": "https://localhost:8080/",
          "height": 295
        },
        "outputId": "6830e66b-ccab-4b97-8d37-c14ec1ee2ec3"
      },
      "source": [
        "#Visualizing the accuracy of the model on the training and validation dataset\n",
        "plt.plot(hist.history['accuracy'])\n",
        "plt.plot(hist.history['val_accuracy'])\n",
        "plt.title('Model accuracy')\n",
        "plt.ylabel('Accuracy')\n",
        "plt.xlabel('Epoch')\n",
        "plt.legend(['Train', 'Val'], loc='lower right')\n",
        "plt.show()"
      ],
      "execution_count": 19,
      "outputs": [
        {
          "output_type": "display_data",
          "data": {
            "image/png": "[encoded data removed]",
            "text/plain": [
              "<Figure size 432x288 with 1 Axes>"
            ]
          },
          "metadata": {
            "tags": [],
            "needs_background": "light"
          }
        }
      ]
    },
    {
      "cell_type": "markdown",
      "metadata": {
        "id": "-eW_OJHNIAZJ"
      },
      "source": [
        "# Showcasing the Need for Regularization - Making Another Model"
      ]
    },
    {
      "cell_type": "code",
      "metadata": {
        "id": "8-_OqS0HIM1c"
      },
      "source": [
        "model_2 = Sequential([\n",
        "    Dense(1000, activation='relu', input_shape=(10,)),\n",
        "    Dense(1000, activation='relu'),\n",
        "    Dense(1000, activation='relu'),\n",
        "    Dense(1000, activation='relu'),\n",
        "    Dense(1, activation='sigmoid'),\n",
        "])"
      ],
      "execution_count": 20,
      "outputs": []
    },
    {
      "cell_type": "code",
      "metadata": {
        "id": "VuDwt3bkIRZ8"
      },
      "source": [
        "model_2.compile(optimizer='adam',\n",
        "              loss='binary_crossentropy',\n",
        "              metrics=['accuracy'])"
      ],
      "execution_count": 21,
      "outputs": []
    },
    {
      "cell_type": "code",
      "metadata": {
        "id": "OmQNz3urIWSh",
        "colab": {
          "base_uri": "https://localhost:8080/"
        },
        "outputId": "dbb4e338-281c-4dde-8ecb-3c57e99d6153"
      },
      "source": [
        "hist_2 = model_2.fit(X_train, Y_train,\n",
        "          batch_size=32, epochs=100,\n",
        "          validation_data=(X_val, Y_val))"
      ],
      "execution_count": 22,
      "outputs": [
        {
          "output_type": "stream",
          "text": [
            "Epoch 1/100\n",
            "32/32 [==============================] - 3s 47ms/step - loss: 0.5881 - accuracy: 0.6703 - val_loss: 0.3898 - val_accuracy: 0.8493\n",
            "Epoch 2/100\n",
            "32/32 [==============================] - 1s 36ms/step - loss: 0.3445 - accuracy: 0.8686 - val_loss: 0.3137 - val_accuracy: 0.8767\n",
            "Epoch 3/100\n",
            "32/32 [==============================] - 1s 36ms/step - loss: 0.2967 - accuracy: 0.8872 - val_loss: 0.3206 - val_accuracy: 0.8813\n",
            "Epoch 4/100\n",
            "32/32 [==============================] - 1s 36ms/step - loss: 0.3333 - accuracy: 0.8577 - val_loss: 0.2700 - val_accuracy: 0.8904\n",
            "Epoch 5/100\n",
            "32/32 [==============================] - 1s 36ms/step - loss: 0.2470 - accuracy: 0.9105 - val_loss: 0.2735 - val_accuracy: 0.8721\n",
            "Epoch 6/100\n",
            "32/32 [==============================] - 1s 36ms/step - loss: 0.2568 - accuracy: 0.8978 - val_loss: 0.3324 - val_accuracy: 0.8676\n",
            "Epoch 7/100\n",
            "32/32 [==============================] - 1s 36ms/step - loss: 0.2877 - accuracy: 0.8778 - val_loss: 0.2491 - val_accuracy: 0.8995\n",
            "Epoch 8/100\n",
            "32/32 [==============================] - 1s 36ms/step - loss: 0.2344 - accuracy: 0.9023 - val_loss: 0.3807 - val_accuracy: 0.8539\n",
            "Epoch 9/100\n",
            "32/32 [==============================] - 1s 37ms/step - loss: 0.3112 - accuracy: 0.8803 - val_loss: 0.2530 - val_accuracy: 0.8904\n",
            "Epoch 10/100\n",
            "32/32 [==============================] - 1s 36ms/step - loss: 0.2335 - accuracy: 0.9086 - val_loss: 0.2526 - val_accuracy: 0.8858\n",
            "Epoch 11/100\n",
            "32/32 [==============================] - 1s 36ms/step - loss: 0.2058 - accuracy: 0.9205 - val_loss: 0.2375 - val_accuracy: 0.9041\n",
            "Epoch 12/100\n",
            "32/32 [==============================] - 1s 37ms/step - loss: 0.2439 - accuracy: 0.8873 - val_loss: 0.2209 - val_accuracy: 0.8904\n",
            "Epoch 13/100\n",
            "32/32 [==============================] - 1s 36ms/step - loss: 0.2141 - accuracy: 0.9142 - val_loss: 0.2400 - val_accuracy: 0.8858\n",
            "Epoch 14/100\n",
            "32/32 [==============================] - 1s 35ms/step - loss: 0.2317 - accuracy: 0.8935 - val_loss: 0.2189 - val_accuracy: 0.8995\n",
            "Epoch 15/100\n",
            "32/32 [==============================] - 1s 36ms/step - loss: 0.2549 - accuracy: 0.9138 - val_loss: 0.2436 - val_accuracy: 0.8767\n",
            "Epoch 16/100\n",
            "32/32 [==============================] - 1s 35ms/step - loss: 0.2188 - accuracy: 0.9182 - val_loss: 0.2383 - val_accuracy: 0.9041\n",
            "Epoch 17/100\n",
            "32/32 [==============================] - 1s 37ms/step - loss: 0.2153 - accuracy: 0.9062 - val_loss: 0.2433 - val_accuracy: 0.8904\n",
            "Epoch 18/100\n",
            "32/32 [==============================] - 1s 36ms/step - loss: 0.2046 - accuracy: 0.9304 - val_loss: 0.2399 - val_accuracy: 0.8813\n",
            "Epoch 19/100\n",
            "32/32 [==============================] - 1s 36ms/step - loss: 0.2203 - accuracy: 0.9118 - val_loss: 0.2321 - val_accuracy: 0.8995\n",
            "Epoch 20/100\n",
            "32/32 [==============================] - 1s 36ms/step - loss: 0.1930 - accuracy: 0.9181 - val_loss: 0.2550 - val_accuracy: 0.8721\n",
            "Epoch 21/100\n",
            "32/32 [==============================] - 1s 35ms/step - loss: 0.2265 - accuracy: 0.8985 - val_loss: 0.2475 - val_accuracy: 0.8950\n",
            "Epoch 22/100\n",
            "32/32 [==============================] - 1s 36ms/step - loss: 0.2099 - accuracy: 0.9170 - val_loss: 0.2597 - val_accuracy: 0.8767\n",
            "Epoch 23/100\n",
            "32/32 [==============================] - 1s 35ms/step - loss: 0.2120 - accuracy: 0.9127 - val_loss: 0.2555 - val_accuracy: 0.8813\n",
            "Epoch 24/100\n",
            "32/32 [==============================] - 1s 36ms/step - loss: 0.1970 - accuracy: 0.9166 - val_loss: 0.2416 - val_accuracy: 0.8767\n",
            "Epoch 25/100\n",
            "32/32 [==============================] - 1s 36ms/step - loss: 0.1884 - accuracy: 0.9159 - val_loss: 0.2468 - val_accuracy: 0.8858\n",
            "Epoch 26/100\n",
            "32/32 [==============================] - 1s 36ms/step - loss: 0.2227 - accuracy: 0.9032 - val_loss: 0.2559 - val_accuracy: 0.8767\n",
            "Epoch 27/100\n",
            "32/32 [==============================] - 1s 36ms/step - loss: 0.1924 - accuracy: 0.9221 - val_loss: 0.2819 - val_accuracy: 0.8767\n",
            "Epoch 28/100\n",
            "32/32 [==============================] - 1s 35ms/step - loss: 0.2041 - accuracy: 0.9277 - val_loss: 0.2533 - val_accuracy: 0.8904\n",
            "Epoch 29/100\n",
            "32/32 [==============================] - 1s 34ms/step - loss: 0.2000 - accuracy: 0.9273 - val_loss: 0.2712 - val_accuracy: 0.8858\n",
            "Epoch 30/100\n",
            "32/32 [==============================] - 1s 35ms/step - loss: 0.2037 - accuracy: 0.9037 - val_loss: 0.3105 - val_accuracy: 0.8676\n",
            "Epoch 31/100\n",
            "32/32 [==============================] - 1s 35ms/step - loss: 0.2169 - accuracy: 0.9125 - val_loss: 0.2600 - val_accuracy: 0.8813\n",
            "Epoch 32/100\n",
            "32/32 [==============================] - 1s 35ms/step - loss: 0.1796 - accuracy: 0.9247 - val_loss: 0.2757 - val_accuracy: 0.8767\n",
            "Epoch 33/100\n",
            "32/32 [==============================] - 1s 35ms/step - loss: 0.1636 - accuracy: 0.9345 - val_loss: 0.2740 - val_accuracy: 0.8858\n",
            "Epoch 34/100\n",
            "32/32 [==============================] - 1s 36ms/step - loss: 0.2010 - accuracy: 0.9163 - val_loss: 0.2930 - val_accuracy: 0.8630\n",
            "Epoch 35/100\n",
            "32/32 [==============================] - 1s 35ms/step - loss: 0.1782 - accuracy: 0.9223 - val_loss: 0.2896 - val_accuracy: 0.8721\n",
            "Epoch 36/100\n",
            "32/32 [==============================] - 1s 35ms/step - loss: 0.1665 - accuracy: 0.9318 - val_loss: 0.3040 - val_accuracy: 0.8721\n",
            "Epoch 37/100\n",
            "32/32 [==============================] - 1s 35ms/step - loss: 0.2224 - accuracy: 0.9219 - val_loss: 0.2608 - val_accuracy: 0.8676\n",
            "Epoch 38/100\n",
            "32/32 [==============================] - 1s 36ms/step - loss: 0.2224 - accuracy: 0.9090 - val_loss: 0.2326 - val_accuracy: 0.8813\n",
            "Epoch 39/100\n",
            "32/32 [==============================] - 1s 35ms/step - loss: 0.1711 - accuracy: 0.9288 - val_loss: 0.2376 - val_accuracy: 0.8904\n",
            "Epoch 40/100\n",
            "32/32 [==============================] - 1s 35ms/step - loss: 0.1764 - accuracy: 0.9254 - val_loss: 0.2447 - val_accuracy: 0.9132\n",
            "Epoch 41/100\n",
            "32/32 [==============================] - 1s 35ms/step - loss: 0.1621 - accuracy: 0.9420 - val_loss: 0.2996 - val_accuracy: 0.8721\n",
            "Epoch 42/100\n",
            "32/32 [==============================] - 1s 36ms/step - loss: 0.1807 - accuracy: 0.9299 - val_loss: 0.2707 - val_accuracy: 0.9041\n",
            "Epoch 43/100\n",
            "32/32 [==============================] - 1s 36ms/step - loss: 0.1958 - accuracy: 0.9171 - val_loss: 0.2770 - val_accuracy: 0.8630\n",
            "Epoch 44/100\n",
            "32/32 [==============================] - 1s 35ms/step - loss: 0.1608 - accuracy: 0.9383 - val_loss: 0.2883 - val_accuracy: 0.8767\n",
            "Epoch 45/100\n",
            "32/32 [==============================] - 1s 35ms/step - loss: 0.1667 - accuracy: 0.9271 - val_loss: 0.2958 - val_accuracy: 0.8904\n",
            "Epoch 46/100\n",
            "32/32 [==============================] - 1s 35ms/step - loss: 0.1367 - accuracy: 0.9535 - val_loss: 0.3074 - val_accuracy: 0.8858\n",
            "Epoch 47/100\n",
            "32/32 [==============================] - 1s 35ms/step - loss: 0.1655 - accuracy: 0.9325 - val_loss: 0.2867 - val_accuracy: 0.8493\n",
            "Epoch 48/100\n",
            "32/32 [==============================] - 1s 34ms/step - loss: 0.1845 - accuracy: 0.9236 - val_loss: 0.3038 - val_accuracy: 0.8630\n",
            "Epoch 49/100\n",
            "32/32 [==============================] - 1s 35ms/step - loss: 0.1763 - accuracy: 0.9315 - val_loss: 0.2637 - val_accuracy: 0.8767\n",
            "Epoch 50/100\n",
            "32/32 [==============================] - 1s 35ms/step - loss: 0.1687 - accuracy: 0.9265 - val_loss: 0.2669 - val_accuracy: 0.8813\n",
            "Epoch 51/100\n",
            "32/32 [==============================] - 1s 35ms/step - loss: 0.1738 - accuracy: 0.9299 - val_loss: 0.2563 - val_accuracy: 0.8813\n",
            "Epoch 52/100\n",
            "32/32 [==============================] - 1s 36ms/step - loss: 0.1796 - accuracy: 0.9309 - val_loss: 0.3229 - val_accuracy: 0.8676\n",
            "Epoch 53/100\n",
            "32/32 [==============================] - 1s 35ms/step - loss: 0.1489 - accuracy: 0.9445 - val_loss: 0.3199 - val_accuracy: 0.8721\n",
            "Epoch 54/100\n",
            "32/32 [==============================] - 1s 35ms/step - loss: 0.1762 - accuracy: 0.9268 - val_loss: 0.3627 - val_accuracy: 0.8676\n",
            "Epoch 55/100\n",
            "32/32 [==============================] - 1s 36ms/step - loss: 0.1636 - accuracy: 0.9275 - val_loss: 0.3767 - val_accuracy: 0.8767\n",
            "Epoch 56/100\n",
            "32/32 [==============================] - 1s 35ms/step - loss: 0.1624 - accuracy: 0.9290 - val_loss: 0.3140 - val_accuracy: 0.8721\n",
            "Epoch 57/100\n",
            "32/32 [==============================] - 1s 35ms/step - loss: 0.1617 - accuracy: 0.9335 - val_loss: 0.3557 - val_accuracy: 0.8676\n",
            "Epoch 58/100\n",
            "32/32 [==============================] - 1s 35ms/step - loss: 0.1555 - accuracy: 0.9371 - val_loss: 0.3385 - val_accuracy: 0.8630\n",
            "Epoch 59/100\n",
            "32/32 [==============================] - 1s 35ms/step - loss: 0.1538 - accuracy: 0.9338 - val_loss: 0.3142 - val_accuracy: 0.8721\n",
            "Epoch 60/100\n",
            "32/32 [==============================] - 1s 36ms/step - loss: 0.1781 - accuracy: 0.9286 - val_loss: 0.3294 - val_accuracy: 0.8858\n",
            "Epoch 61/100\n",
            "32/32 [==============================] - 1s 35ms/step - loss: 0.1227 - accuracy: 0.9579 - val_loss: 0.3252 - val_accuracy: 0.8584\n",
            "Epoch 62/100\n",
            "32/32 [==============================] - 1s 36ms/step - loss: 0.1476 - accuracy: 0.9334 - val_loss: 0.3592 - val_accuracy: 0.8721\n",
            "Epoch 63/100\n",
            "32/32 [==============================] - 1s 36ms/step - loss: 0.1850 - accuracy: 0.9288 - val_loss: 0.3699 - val_accuracy: 0.8767\n",
            "Epoch 64/100\n",
            "32/32 [==============================] - 1s 35ms/step - loss: 0.1888 - accuracy: 0.9368 - val_loss: 0.3072 - val_accuracy: 0.8676\n",
            "Epoch 65/100\n",
            "32/32 [==============================] - 1s 35ms/step - loss: 0.1368 - accuracy: 0.9408 - val_loss: 0.2905 - val_accuracy: 0.8721\n",
            "Epoch 66/100\n",
            "32/32 [==============================] - 1s 35ms/step - loss: 0.1930 - accuracy: 0.9279 - val_loss: 0.2997 - val_accuracy: 0.8721\n",
            "Epoch 67/100\n",
            "32/32 [==============================] - 1s 35ms/step - loss: 0.1257 - accuracy: 0.9527 - val_loss: 0.3902 - val_accuracy: 0.8721\n",
            "Epoch 68/100\n",
            "32/32 [==============================] - 1s 35ms/step - loss: 0.1224 - accuracy: 0.9500 - val_loss: 0.3383 - val_accuracy: 0.8630\n",
            "Epoch 69/100\n",
            "32/32 [==============================] - 1s 36ms/step - loss: 0.1545 - accuracy: 0.9392 - val_loss: 0.3699 - val_accuracy: 0.8630\n",
            "Epoch 70/100\n",
            "32/32 [==============================] - 1s 35ms/step - loss: 0.1621 - accuracy: 0.9324 - val_loss: 0.2921 - val_accuracy: 0.8721\n",
            "Epoch 71/100\n",
            "32/32 [==============================] - 1s 36ms/step - loss: 0.1478 - accuracy: 0.9380 - val_loss: 0.3993 - val_accuracy: 0.8813\n",
            "Epoch 72/100\n",
            "32/32 [==============================] - 1s 36ms/step - loss: 0.1277 - accuracy: 0.9518 - val_loss: 0.4387 - val_accuracy: 0.8676\n",
            "Epoch 73/100\n",
            "32/32 [==============================] - 1s 35ms/step - loss: 0.1498 - accuracy: 0.9346 - val_loss: 0.3764 - val_accuracy: 0.8493\n",
            "Epoch 74/100\n",
            "32/32 [==============================] - 1s 35ms/step - loss: 0.1398 - accuracy: 0.9478 - val_loss: 0.4184 - val_accuracy: 0.8584\n",
            "Epoch 75/100\n",
            "32/32 [==============================] - 1s 35ms/step - loss: 0.1516 - accuracy: 0.9461 - val_loss: 0.5112 - val_accuracy: 0.8493\n",
            "Epoch 76/100\n",
            "32/32 [==============================] - 1s 36ms/step - loss: 0.1346 - accuracy: 0.9409 - val_loss: 0.3316 - val_accuracy: 0.8767\n",
            "Epoch 77/100\n",
            "32/32 [==============================] - 1s 35ms/step - loss: 0.1531 - accuracy: 0.9305 - val_loss: 0.4393 - val_accuracy: 0.8630\n",
            "Epoch 78/100\n",
            "32/32 [==============================] - 1s 36ms/step - loss: 0.1081 - accuracy: 0.9628 - val_loss: 0.4399 - val_accuracy: 0.8584\n",
            "Epoch 79/100\n",
            "32/32 [==============================] - 1s 35ms/step - loss: 0.1423 - accuracy: 0.9371 - val_loss: 0.3922 - val_accuracy: 0.8630\n",
            "Epoch 80/100\n",
            "32/32 [==============================] - 1s 36ms/step - loss: 0.1822 - accuracy: 0.9269 - val_loss: 0.3342 - val_accuracy: 0.8767\n",
            "Epoch 81/100\n",
            "32/32 [==============================] - 1s 36ms/step - loss: 0.1176 - accuracy: 0.9509 - val_loss: 0.3808 - val_accuracy: 0.8630\n",
            "Epoch 82/100\n",
            "32/32 [==============================] - 1s 36ms/step - loss: 0.1161 - accuracy: 0.9555 - val_loss: 0.4739 - val_accuracy: 0.8721\n",
            "Epoch 83/100\n",
            "32/32 [==============================] - 1s 37ms/step - loss: 0.1212 - accuracy: 0.9491 - val_loss: 0.5364 - val_accuracy: 0.8584\n",
            "Epoch 84/100\n",
            "32/32 [==============================] - 1s 37ms/step - loss: 0.1431 - accuracy: 0.9459 - val_loss: 0.4197 - val_accuracy: 0.8676\n",
            "Epoch 85/100\n",
            "32/32 [==============================] - 1s 37ms/step - loss: 0.1258 - accuracy: 0.9526 - val_loss: 0.4300 - val_accuracy: 0.8721\n",
            "Epoch 86/100\n",
            "32/32 [==============================] - 1s 37ms/step - loss: 0.1145 - accuracy: 0.9480 - val_loss: 0.5226 - val_accuracy: 0.8539\n",
            "Epoch 87/100\n",
            "32/32 [==============================] - 1s 36ms/step - loss: 0.0984 - accuracy: 0.9597 - val_loss: 0.4760 - val_accuracy: 0.8721\n",
            "Epoch 88/100\n",
            "32/32 [==============================] - 1s 37ms/step - loss: 0.1257 - accuracy: 0.9516 - val_loss: 0.5473 - val_accuracy: 0.8676\n",
            "Epoch 89/100\n",
            "32/32 [==============================] - 1s 36ms/step - loss: 0.0985 - accuracy: 0.9573 - val_loss: 0.5220 - val_accuracy: 0.8493\n",
            "Epoch 90/100\n",
            "32/32 [==============================] - 1s 35ms/step - loss: 0.0890 - accuracy: 0.9622 - val_loss: 0.5937 - val_accuracy: 0.8721\n",
            "Epoch 91/100\n",
            "32/32 [==============================] - 1s 36ms/step - loss: 0.0941 - accuracy: 0.9619 - val_loss: 0.6622 - val_accuracy: 0.8493\n",
            "Epoch 92/100\n",
            "32/32 [==============================] - 1s 37ms/step - loss: 0.0946 - accuracy: 0.9571 - val_loss: 0.6786 - val_accuracy: 0.8721\n",
            "Epoch 93/100\n",
            "32/32 [==============================] - 1s 37ms/step - loss: 0.1134 - accuracy: 0.9520 - val_loss: 0.6678 - val_accuracy: 0.8584\n",
            "Epoch 94/100\n",
            "32/32 [==============================] - 1s 36ms/step - loss: 0.0968 - accuracy: 0.9670 - val_loss: 0.6499 - val_accuracy: 0.8493\n",
            "Epoch 95/100\n",
            "32/32 [==============================] - 1s 37ms/step - loss: 0.1223 - accuracy: 0.9498 - val_loss: 0.4553 - val_accuracy: 0.8539\n",
            "Epoch 96/100\n",
            "32/32 [==============================] - 1s 36ms/step - loss: 0.1482 - accuracy: 0.9265 - val_loss: 0.4972 - val_accuracy: 0.8858\n",
            "Epoch 97/100\n",
            "32/32 [==============================] - 1s 37ms/step - loss: 0.1055 - accuracy: 0.9612 - val_loss: 0.5401 - val_accuracy: 0.8539\n",
            "Epoch 98/100\n",
            "32/32 [==============================] - 1s 38ms/step - loss: 0.0944 - accuracy: 0.9684 - val_loss: 0.5526 - val_accuracy: 0.8767\n",
            "Epoch 99/100\n",
            "32/32 [==============================] - 1s 37ms/step - loss: 0.1252 - accuracy: 0.9483 - val_loss: 0.5965 - val_accuracy: 0.8676\n",
            "Epoch 100/100\n",
            "32/32 [==============================] - 1s 37ms/step - loss: 0.0910 - accuracy: 0.9674 - val_loss: 0.5016 - val_accuracy: 0.8813\n"
          ],
          "name": "stdout"
        }
      ]
    },
    {
      "cell_type": "code",
      "metadata": {
        "id": "4DSI7kgJIW9L",
        "colab": {
          "base_uri": "https://localhost:8080/",
          "height": 295
        },
        "outputId": "991aee91-0b32-4780-b138-8dec32df7bd5"
      },
      "source": [
        "plt.plot(hist_2.history['loss'])\n",
        "plt.plot(hist_2.history['val_loss'])\n",
        "plt.title('Model loss')\n",
        "plt.ylabel('Loss')\n",
        "plt.xlabel('Epoch')\n",
        "plt.legend(['Train', 'Val'], loc='upper right')\n",
        "plt.show()"
      ],
      "execution_count": 23,
      "outputs": [
        {
          "output_type": "display_data",
          "data": {
            "image/png": "[encoded data removed]",
            "text/plain": [
              "<Figure size 432x288 with 1 Axes>"
            ]
          },
          "metadata": {
            "tags": [],
            "needs_background": "light"
          }
        }
      ]
    },
    {
      "cell_type": "code",
      "metadata": {
        "id": "lyQzyB0NJAQj",
        "colab": {
          "base_uri": "https://localhost:8080/",
          "height": 295
        },
        "outputId": "5a171ed7-8c88-42b1-ac9f-182518020692"
      },
      "source": [
        "plt.plot(hist_2.history['accuracy'])\n",
        "plt.plot(hist_2.history['val_accuracy'])\n",
        "plt.title('Model accuracy')\n",
        "plt.ylabel('Accuracy')\n",
        "plt.xlabel('Epoch')\n",
        "plt.legend(['Train', 'Val'], loc='lower right')\n",
        "plt.show()"
      ],
      "execution_count": 24,
      "outputs": [
        {
          "output_type": "display_data",
          "data": {
            "image/png": "[encoded data removed]",
            "text/plain": [
              "<Figure size 432x288 with 1 Axes>"
            ]
          },
          "metadata": {
            "tags": [],
            "needs_background": "light"
          }
        }
      ]
    },
    {
      "cell_type": "markdown",
      "metadata": {
        "id": "w_MwY7dHJXpj"
      },
      "source": [
        "# Additional Model to Reduce the Over-Fitting in Model 2"
      ]
    },
    {
      "cell_type": "code",
      "metadata": {
        "id": "vOwj4sJfJcAc"
      },
      "source": [
        "from keras.layers import Dropout\n",
        "from keras import regularizers"
      ],
      "execution_count": 25,
      "outputs": []
    },
    {
      "cell_type": "code",
      "metadata": {
        "id": "aEs9gBFDJd8I"
      },
      "source": [
        "model_3 = Sequential([\n",
        "    Dense(1000, activation='relu', kernel_regularizer=regularizers.l2(0.01), input_shape=(10,)),\n",
        "    Dropout(0.3),\n",
        "    Dense(1000, activation='relu', kernel_regularizer=regularizers.l2(0.01)),\n",
        "    Dropout(0.3),\n",
        "    Dense(1000, activation='relu', kernel_regularizer=regularizers.l2(0.01)),\n",
        "    Dropout(0.3),\n",
        "    Dense(1000, activation='relu', kernel_regularizer=regularizers.l2(0.01)),\n",
        "    Dropout(0.3),\n",
        "    Dense(1, activation='sigmoid', kernel_regularizer=regularizers.l2(0.01)),\n",
        "])"
      ],
      "execution_count": 26,
      "outputs": []
    },
    {
      "cell_type": "code",
      "metadata": {
        "id": "Rh5XYQy0Jtzi"
      },
      "source": [
        "model_3.compile(optimizer='adam',\n",
        "              loss='binary_crossentropy',\n",
        "              metrics=['accuracy'])"
      ],
      "execution_count": 27,
      "outputs": []
    },
    {
      "cell_type": "code",
      "metadata": {
        "colab": {
          "base_uri": "https://localhost:8080/"
        },
        "id": "SuxsqwQ3JwF-",
        "outputId": "17326ad4-43ea-4e46-84af-c7ec953aeb01"
      },
      "source": [
        "hist_3 = model_3.fit(X_train, Y_train,\n",
        "          batch_size=32, epochs=100,\n",
        "          validation_data=(X_val, Y_val))"
      ],
      "execution_count": 28,
      "outputs": [
        {
          "output_type": "stream",
          "text": [
            "Epoch 1/100\n",
            "32/32 [==============================] - 4s 63ms/step - loss: 21.1246 - accuracy: 0.5593 - val_loss: 3.8667 - val_accuracy: 0.8311\n",
            "Epoch 2/100\n",
            "32/32 [==============================] - 2s 48ms/step - loss: 2.4821 - accuracy: 0.8502 - val_loss: 0.6711 - val_accuracy: 0.8311\n",
            "Epoch 3/100\n",
            "32/32 [==============================] - 2s 49ms/step - loss: 0.5700 - accuracy: 0.8799 - val_loss: 0.4818 - val_accuracy: 0.8904\n",
            "Epoch 4/100\n",
            "32/32 [==============================] - 2s 50ms/step - loss: 0.5293 - accuracy: 0.8604 - val_loss: 0.4545 - val_accuracy: 0.8950\n",
            "Epoch 5/100\n",
            "32/32 [==============================] - 2s 48ms/step - loss: 0.4760 - accuracy: 0.8891 - val_loss: 0.4815 - val_accuracy: 0.8584\n",
            "Epoch 6/100\n",
            "32/32 [==============================] - 2s 48ms/step - loss: 0.4849 - accuracy: 0.8848 - val_loss: 0.4475 - val_accuracy: 0.8950\n",
            "Epoch 7/100\n",
            "32/32 [==============================] - 2s 47ms/step - loss: 0.5009 - accuracy: 0.8613 - val_loss: 0.4277 - val_accuracy: 0.8950\n",
            "Epoch 8/100\n",
            "32/32 [==============================] - 2s 47ms/step - loss: 0.4750 - accuracy: 0.8781 - val_loss: 0.4286 - val_accuracy: 0.8858\n",
            "Epoch 9/100\n",
            "32/32 [==============================] - 2s 49ms/step - loss: 0.4759 - accuracy: 0.8678 - val_loss: 0.4159 - val_accuracy: 0.8904\n",
            "Epoch 10/100\n",
            "32/32 [==============================] - 2s 47ms/step - loss: 0.4843 - accuracy: 0.8729 - val_loss: 0.4225 - val_accuracy: 0.8950\n",
            "Epoch 11/100\n",
            "32/32 [==============================] - 1s 46ms/step - loss: 0.4516 - accuracy: 0.8941 - val_loss: 0.5127 - val_accuracy: 0.8311\n",
            "Epoch 12/100\n",
            "32/32 [==============================] - 1s 47ms/step - loss: 0.5228 - accuracy: 0.8561 - val_loss: 0.4125 - val_accuracy: 0.8904\n",
            "Epoch 13/100\n",
            "32/32 [==============================] - 2s 47ms/step - loss: 0.4387 - accuracy: 0.8950 - val_loss: 0.4509 - val_accuracy: 0.8630\n",
            "Epoch 14/100\n",
            "32/32 [==============================] - 2s 48ms/step - loss: 0.4827 - accuracy: 0.8723 - val_loss: 0.4068 - val_accuracy: 0.8858\n",
            "Epoch 15/100\n",
            "32/32 [==============================] - 2s 47ms/step - loss: 0.4762 - accuracy: 0.8842 - val_loss: 0.4398 - val_accuracy: 0.8995\n",
            "Epoch 16/100\n",
            "32/32 [==============================] - 2s 48ms/step - loss: 0.4627 - accuracy: 0.8737 - val_loss: 0.4138 - val_accuracy: 0.8767\n",
            "Epoch 17/100\n",
            "32/32 [==============================] - 2s 48ms/step - loss: 0.4385 - accuracy: 0.8876 - val_loss: 0.4012 - val_accuracy: 0.8950\n",
            "Epoch 18/100\n",
            "32/32 [==============================] - 2s 48ms/step - loss: 0.4730 - accuracy: 0.8669 - val_loss: 0.4063 - val_accuracy: 0.8904\n",
            "Epoch 19/100\n",
            "32/32 [==============================] - 2s 48ms/step - loss: 0.4497 - accuracy: 0.8907 - val_loss: 0.4169 - val_accuracy: 0.8813\n",
            "Epoch 20/100\n",
            "32/32 [==============================] - 1s 46ms/step - loss: 0.4527 - accuracy: 0.8749 - val_loss: 0.4099 - val_accuracy: 0.8995\n",
            "Epoch 21/100\n",
            "32/32 [==============================] - 1s 46ms/step - loss: 0.4290 - accuracy: 0.8961 - val_loss: 0.4102 - val_accuracy: 0.8904\n",
            "Epoch 22/100\n",
            "32/32 [==============================] - 1s 46ms/step - loss: 0.4453 - accuracy: 0.8869 - val_loss: 0.4314 - val_accuracy: 0.9041\n",
            "Epoch 23/100\n",
            "32/32 [==============================] - 1s 46ms/step - loss: 0.4863 - accuracy: 0.8681 - val_loss: 0.4096 - val_accuracy: 0.8995\n",
            "Epoch 24/100\n",
            "32/32 [==============================] - 1s 46ms/step - loss: 0.4551 - accuracy: 0.8840 - val_loss: 0.3938 - val_accuracy: 0.8995\n",
            "Epoch 25/100\n",
            "32/32 [==============================] - 1s 45ms/step - loss: 0.4304 - accuracy: 0.8883 - val_loss: 0.4352 - val_accuracy: 0.8813\n",
            "Epoch 26/100\n",
            "32/32 [==============================] - 1s 46ms/step - loss: 0.4739 - accuracy: 0.8657 - val_loss: 0.4236 - val_accuracy: 0.8813\n",
            "Epoch 27/100\n",
            "32/32 [==============================] - 1s 45ms/step - loss: 0.4409 - accuracy: 0.8763 - val_loss: 0.4162 - val_accuracy: 0.8995\n",
            "Epoch 28/100\n",
            "32/32 [==============================] - 2s 47ms/step - loss: 0.4183 - accuracy: 0.8890 - val_loss: 0.4003 - val_accuracy: 0.8950\n",
            "Epoch 29/100\n",
            "32/32 [==============================] - 1s 47ms/step - loss: 0.4455 - accuracy: 0.8922 - val_loss: 0.4071 - val_accuracy: 0.8767\n",
            "Epoch 30/100\n",
            "32/32 [==============================] - 2s 48ms/step - loss: 0.4291 - accuracy: 0.8973 - val_loss: 0.3928 - val_accuracy: 0.8904\n",
            "Epoch 31/100\n",
            "32/32 [==============================] - 2s 47ms/step - loss: 0.4700 - accuracy: 0.8653 - val_loss: 0.4003 - val_accuracy: 0.8950\n",
            "Epoch 32/100\n",
            "32/32 [==============================] - 1s 46ms/step - loss: 0.4451 - accuracy: 0.8950 - val_loss: 0.4466 - val_accuracy: 0.8767\n",
            "Epoch 33/100\n",
            "32/32 [==============================] - 1s 47ms/step - loss: 0.4774 - accuracy: 0.8677 - val_loss: 0.4131 - val_accuracy: 0.8995\n",
            "Epoch 34/100\n",
            "32/32 [==============================] - 1s 46ms/step - loss: 0.4513 - accuracy: 0.8836 - val_loss: 0.3856 - val_accuracy: 0.8995\n",
            "Epoch 35/100\n",
            "32/32 [==============================] - 1s 47ms/step - loss: 0.4450 - accuracy: 0.8843 - val_loss: 0.3976 - val_accuracy: 0.8858\n",
            "Epoch 36/100\n",
            "32/32 [==============================] - 1s 45ms/step - loss: 0.4260 - accuracy: 0.8980 - val_loss: 0.4098 - val_accuracy: 0.8813\n",
            "Epoch 37/100\n",
            "32/32 [==============================] - 1s 47ms/step - loss: 0.4281 - accuracy: 0.8830 - val_loss: 0.4199 - val_accuracy: 0.8767\n",
            "Epoch 38/100\n",
            "32/32 [==============================] - 2s 47ms/step - loss: 0.4274 - accuracy: 0.8838 - val_loss: 0.4042 - val_accuracy: 0.8995\n",
            "Epoch 39/100\n",
            "32/32 [==============================] - 2s 47ms/step - loss: 0.4296 - accuracy: 0.8951 - val_loss: 0.3841 - val_accuracy: 0.8858\n",
            "Epoch 40/100\n",
            "32/32 [==============================] - 2s 47ms/step - loss: 0.4328 - accuracy: 0.8907 - val_loss: 0.3907 - val_accuracy: 0.8858\n",
            "Epoch 41/100\n",
            "32/32 [==============================] - 2s 48ms/step - loss: 0.4572 - accuracy: 0.8830 - val_loss: 0.4022 - val_accuracy: 0.8904\n",
            "Epoch 42/100\n",
            "32/32 [==============================] - 2s 48ms/step - loss: 0.4471 - accuracy: 0.8768 - val_loss: 0.3850 - val_accuracy: 0.8904\n",
            "Epoch 43/100\n",
            "32/32 [==============================] - 2s 48ms/step - loss: 0.4428 - accuracy: 0.8864 - val_loss: 0.3878 - val_accuracy: 0.9041\n",
            "Epoch 44/100\n",
            "32/32 [==============================] - 2s 47ms/step - loss: 0.4218 - accuracy: 0.8950 - val_loss: 0.3849 - val_accuracy: 0.8858\n",
            "Epoch 45/100\n",
            "32/32 [==============================] - 2s 47ms/step - loss: 0.4183 - accuracy: 0.9065 - val_loss: 0.3847 - val_accuracy: 0.8904\n",
            "Epoch 46/100\n",
            "32/32 [==============================] - 1s 47ms/step - loss: 0.4812 - accuracy: 0.8438 - val_loss: 0.4186 - val_accuracy: 0.8858\n",
            "Epoch 47/100\n",
            "32/32 [==============================] - 2s 47ms/step - loss: 0.4307 - accuracy: 0.8998 - val_loss: 0.3967 - val_accuracy: 0.8950\n",
            "Epoch 48/100\n",
            "32/32 [==============================] - 1s 46ms/step - loss: 0.4402 - accuracy: 0.8848 - val_loss: 0.3856 - val_accuracy: 0.8904\n",
            "Epoch 49/100\n",
            "32/32 [==============================] - 2s 47ms/step - loss: 0.4294 - accuracy: 0.8797 - val_loss: 0.3859 - val_accuracy: 0.8950\n",
            "Epoch 50/100\n",
            "32/32 [==============================] - 2s 48ms/step - loss: 0.4237 - accuracy: 0.8739 - val_loss: 0.3986 - val_accuracy: 0.9087\n",
            "Epoch 51/100\n",
            "32/32 [==============================] - 2s 47ms/step - loss: 0.4671 - accuracy: 0.8740 - val_loss: 0.3850 - val_accuracy: 0.8858\n",
            "Epoch 52/100\n",
            "32/32 [==============================] - 2s 47ms/step - loss: 0.4363 - accuracy: 0.8769 - val_loss: 0.4451 - val_accuracy: 0.8584\n",
            "Epoch 53/100\n",
            "32/32 [==============================] - 1s 45ms/step - loss: 0.4745 - accuracy: 0.8766 - val_loss: 0.3910 - val_accuracy: 0.8950\n",
            "Epoch 54/100\n",
            "32/32 [==============================] - 2s 47ms/step - loss: 0.4206 - accuracy: 0.8883 - val_loss: 0.3838 - val_accuracy: 0.8904\n",
            "Epoch 55/100\n",
            "32/32 [==============================] - 2s 47ms/step - loss: 0.4339 - accuracy: 0.8879 - val_loss: 0.3840 - val_accuracy: 0.8950\n",
            "Epoch 56/100\n",
            "32/32 [==============================] - 1s 46ms/step - loss: 0.4388 - accuracy: 0.8931 - val_loss: 0.3866 - val_accuracy: 0.8950\n",
            "Epoch 57/100\n",
            "32/32 [==============================] - 1s 46ms/step - loss: 0.4782 - accuracy: 0.8611 - val_loss: 0.4783 - val_accuracy: 0.8539\n",
            "Epoch 58/100\n",
            "32/32 [==============================] - 1s 47ms/step - loss: 0.4795 - accuracy: 0.8478 - val_loss: 0.3919 - val_accuracy: 0.8904\n",
            "Epoch 59/100\n",
            "32/32 [==============================] - 2s 47ms/step - loss: 0.4725 - accuracy: 0.8738 - val_loss: 0.4447 - val_accuracy: 0.8630\n",
            "Epoch 60/100\n",
            "32/32 [==============================] - 1s 47ms/step - loss: 0.4543 - accuracy: 0.8694 - val_loss: 0.4630 - val_accuracy: 0.8539\n",
            "Epoch 61/100\n",
            "32/32 [==============================] - 1s 46ms/step - loss: 0.4692 - accuracy: 0.8621 - val_loss: 0.3942 - val_accuracy: 0.8950\n",
            "Epoch 62/100\n",
            "32/32 [==============================] - 1s 47ms/step - loss: 0.4439 - accuracy: 0.8798 - val_loss: 0.3873 - val_accuracy: 0.8904\n",
            "Epoch 63/100\n",
            "32/32 [==============================] - 2s 48ms/step - loss: 0.4296 - accuracy: 0.8772 - val_loss: 0.4052 - val_accuracy: 0.8904\n",
            "Epoch 64/100\n",
            "32/32 [==============================] - 2s 49ms/step - loss: 0.4200 - accuracy: 0.8956 - val_loss: 0.3963 - val_accuracy: 0.8858\n",
            "Epoch 65/100\n",
            "32/32 [==============================] - 1s 47ms/step - loss: 0.4577 - accuracy: 0.8688 - val_loss: 0.3863 - val_accuracy: 0.8858\n",
            "Epoch 66/100\n",
            "32/32 [==============================] - 2s 47ms/step - loss: 0.4621 - accuracy: 0.8692 - val_loss: 0.3892 - val_accuracy: 0.8904\n",
            "Epoch 67/100\n",
            "32/32 [==============================] - 2s 48ms/step - loss: 0.4684 - accuracy: 0.8632 - val_loss: 0.4012 - val_accuracy: 0.8950\n",
            "Epoch 68/100\n",
            "32/32 [==============================] - 2s 49ms/step - loss: 0.4402 - accuracy: 0.8843 - val_loss: 0.3945 - val_accuracy: 0.8858\n",
            "Epoch 69/100\n",
            "32/32 [==============================] - 2s 48ms/step - loss: 0.4256 - accuracy: 0.8968 - val_loss: 0.3949 - val_accuracy: 0.8950\n",
            "Epoch 70/100\n",
            "32/32 [==============================] - 2s 48ms/step - loss: 0.4401 - accuracy: 0.8904 - val_loss: 0.4116 - val_accuracy: 0.8858\n",
            "Epoch 71/100\n",
            "32/32 [==============================] - 2s 48ms/step - loss: 0.4434 - accuracy: 0.8825 - val_loss: 0.3853 - val_accuracy: 0.8995\n",
            "Epoch 72/100\n",
            "32/32 [==============================] - 2s 49ms/step - loss: 0.4268 - accuracy: 0.8837 - val_loss: 0.3871 - val_accuracy: 0.8904\n",
            "Epoch 73/100\n",
            "32/32 [==============================] - 2s 49ms/step - loss: 0.4243 - accuracy: 0.8967 - val_loss: 0.3828 - val_accuracy: 0.9041\n",
            "Epoch 74/100\n",
            "32/32 [==============================] - 2s 49ms/step - loss: 0.4375 - accuracy: 0.8848 - val_loss: 0.3852 - val_accuracy: 0.8904\n",
            "Epoch 75/100\n",
            "32/32 [==============================] - 2s 49ms/step - loss: 0.4671 - accuracy: 0.8590 - val_loss: 0.3834 - val_accuracy: 0.9041\n",
            "Epoch 76/100\n",
            "32/32 [==============================] - 2s 49ms/step - loss: 0.4336 - accuracy: 0.8748 - val_loss: 0.3856 - val_accuracy: 0.8995\n",
            "Epoch 77/100\n",
            "32/32 [==============================] - 2s 50ms/step - loss: 0.4340 - accuracy: 0.8910 - val_loss: 0.3853 - val_accuracy: 0.8858\n",
            "Epoch 78/100\n",
            "32/32 [==============================] - 2s 49ms/step - loss: 0.4446 - accuracy: 0.8752 - val_loss: 0.3871 - val_accuracy: 0.8858\n",
            "Epoch 79/100\n",
            "32/32 [==============================] - 2s 50ms/step - loss: 0.4466 - accuracy: 0.8933 - val_loss: 0.4080 - val_accuracy: 0.8813\n",
            "Epoch 80/100\n",
            "32/32 [==============================] - 2s 50ms/step - loss: 0.4116 - accuracy: 0.8955 - val_loss: 0.4287 - val_accuracy: 0.8767\n",
            "Epoch 81/100\n",
            "32/32 [==============================] - 2s 50ms/step - loss: 0.4412 - accuracy: 0.8777 - val_loss: 0.3865 - val_accuracy: 0.8995\n",
            "Epoch 82/100\n",
            "32/32 [==============================] - 2s 49ms/step - loss: 0.4261 - accuracy: 0.8925 - val_loss: 0.4124 - val_accuracy: 0.8767\n",
            "Epoch 83/100\n",
            "32/32 [==============================] - 2s 50ms/step - loss: 0.4469 - accuracy: 0.8921 - val_loss: 0.3797 - val_accuracy: 0.8904\n",
            "Epoch 84/100\n",
            "32/32 [==============================] - 2s 49ms/step - loss: 0.4067 - accuracy: 0.9021 - val_loss: 0.3879 - val_accuracy: 0.8950\n",
            "Epoch 85/100\n",
            "32/32 [==============================] - 2s 50ms/step - loss: 0.4722 - accuracy: 0.8625 - val_loss: 0.4218 - val_accuracy: 0.8767\n",
            "Epoch 86/100\n",
            "32/32 [==============================] - 2s 49ms/step - loss: 0.4508 - accuracy: 0.8705 - val_loss: 0.3870 - val_accuracy: 0.8950\n",
            "Epoch 87/100\n",
            "32/32 [==============================] - 2s 48ms/step - loss: 0.4187 - accuracy: 0.8975 - val_loss: 0.3952 - val_accuracy: 0.8904\n",
            "Epoch 88/100\n",
            "32/32 [==============================] - 2s 49ms/step - loss: 0.4463 - accuracy: 0.8799 - val_loss: 0.3831 - val_accuracy: 0.8950\n",
            "Epoch 89/100\n",
            "32/32 [==============================] - 2s 50ms/step - loss: 0.4505 - accuracy: 0.8924 - val_loss: 0.3876 - val_accuracy: 0.8904\n",
            "Epoch 90/100\n",
            "32/32 [==============================] - 2s 49ms/step - loss: 0.4109 - accuracy: 0.8943 - val_loss: 0.4720 - val_accuracy: 0.8493\n",
            "Epoch 91/100\n",
            "32/32 [==============================] - 2s 49ms/step - loss: 0.4515 - accuracy: 0.8744 - val_loss: 0.3850 - val_accuracy: 0.8950\n",
            "Epoch 92/100\n",
            "32/32 [==============================] - 2s 50ms/step - loss: 0.4036 - accuracy: 0.8959 - val_loss: 0.3868 - val_accuracy: 0.8858\n",
            "Epoch 93/100\n",
            "32/32 [==============================] - 2s 49ms/step - loss: 0.4210 - accuracy: 0.8961 - val_loss: 0.3836 - val_accuracy: 0.8950\n",
            "Epoch 94/100\n",
            "32/32 [==============================] - 2s 48ms/step - loss: 0.4076 - accuracy: 0.9056 - val_loss: 0.4330 - val_accuracy: 0.8767\n",
            "Epoch 95/100\n",
            "32/32 [==============================] - 2s 48ms/step - loss: 0.4532 - accuracy: 0.8728 - val_loss: 0.3841 - val_accuracy: 0.8950\n",
            "Epoch 96/100\n",
            "32/32 [==============================] - 2s 49ms/step - loss: 0.4545 - accuracy: 0.8764 - val_loss: 0.3900 - val_accuracy: 0.8995\n",
            "Epoch 97/100\n",
            "32/32 [==============================] - 2s 49ms/step - loss: 0.4244 - accuracy: 0.8890 - val_loss: 0.3818 - val_accuracy: 0.8950\n",
            "Epoch 98/100\n",
            "32/32 [==============================] - 2s 48ms/step - loss: 0.4507 - accuracy: 0.8833 - val_loss: 0.3919 - val_accuracy: 0.8904\n",
            "Epoch 99/100\n",
            "32/32 [==============================] - 2s 49ms/step - loss: 0.4327 - accuracy: 0.8862 - val_loss: 0.3943 - val_accuracy: 0.8950\n",
            "Epoch 100/100\n",
            "32/32 [==============================] - 2s 49ms/step - loss: 0.4439 - accuracy: 0.8805 - val_loss: 0.3893 - val_accuracy: 0.8950\n"
          ],
          "name": "stdout"
        }
      ]
    },
    {
      "cell_type": "code",
      "metadata": {
        "id": "2y0SCwg0J0-x",
        "colab": {
          "base_uri": "https://localhost:8080/",
          "height": 295
        },
        "outputId": "b78b7b15-0495-4908-a4ea-aeedfec0c926"
      },
      "source": [
        "plt.plot(hist_3.history['loss'])\n",
        "plt.plot(hist_3.history['val_loss'])\n",
        "plt.title('Model loss')\n",
        "plt.ylabel('Loss')\n",
        "plt.xlabel('Epoch')\n",
        "plt.legend(['Train', 'Val'], loc='upper right')\n",
        "plt.ylim(top=1.2, bottom=0)\n",
        "plt.show()"
      ],
      "execution_count": 29,
      "outputs": [
        {
          "output_type": "display_data",
          "data": {
            "image/png": "[encoded data removed]",
            "text/plain": [
              "<Figure size 432x288 with 1 Axes>"
            ]
          },
          "metadata": {
            "tags": [],
            "needs_background": "light"
          }
        }
      ]
    },
    {
      "cell_type": "code",
      "metadata": {
        "id": "N5-6m0q-KzaD",
        "colab": {
          "base_uri": "https://localhost:8080/",
          "height": 295
        },
        "outputId": "fd3a8044-6619-4bc8-8230-e8ff58969439"
      },
      "source": [
        "plt.plot(hist_3.history['accuracy'])\n",
        "plt.plot(hist_3.history['val_accuracy'])\n",
        "plt.title('Model accuracy')\n",
        "plt.ylabel('Accuracy')\n",
        "plt.xlabel('Epoch')\n",
        "plt.legend(['Train', 'Val'], loc='lower right')\n",
        "plt.show()"
      ],
      "execution_count": 30,
      "outputs": [
        {
          "output_type": "display_data",
          "data": {
            "image/png": "[encoded data removed]",
            "text/plain": [
              "<Figure size 432x288 with 1 Axes>"
            ]
          },
          "metadata": {
            "tags": [],
            "needs_background": "light"
          }
        }
      ]
    }
  ]
}
