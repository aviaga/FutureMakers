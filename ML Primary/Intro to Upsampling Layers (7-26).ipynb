{
  "nbformat": 4,
  "nbformat_minor": 0,
  "metadata": {
    "colab": {
      "name": "Day 21 (7-26) - Project 1 on Adding Upsampling Layers.ipynb",
      "provenance": [],
      "collapsed_sections": [],
      "authorship_tag": "ABX9TyOYDuysiijLr+XV6IKQt9au",
      "include_colab_link": true
    },
    "kernelspec": {
      "name": "python3",
      "display_name": "Python 3"
    },
    "language_info": {
      "name": "python"
    }
  },
  "cells": [
    {
      "cell_type": "markdown",
      "metadata": {
        "id": "view-in-github",
        "colab_type": "text"
      },
      "source": [
        "<a href=\"https://colab.research.google.com/github/aviaga/FutureMakers/blob/main/Day%2021%20(7-26)%20-%20Project%201%20on%20Adding%20Upsampling%20Layers.ipynb\" target=\"_parent\"><img src=\"https://colab.research.google.com/assets/colab-badge.svg\" alt=\"Open In Colab\"/></a>"
      ]
    },
    {
      "cell_type": "markdown",
      "metadata": {
        "id": "9tYjtGMMEhYA"
      },
      "source": [
        "# Project Intro\n",
        "\n",
        "This is the implementation of Day 21's first Action Item for SureStart's summer program, 2021.\n",
        "\n",
        "The goal of the project is to explore Upsampling in Deep Learning models. \n",
        "\n",
        "The tutorial for this model development activity can be found [here](https://machinelearningmastery.com/upsampling-and-transpose-convolution-layers-for-generative-adversarial-networks/)."
      ]
    },
    {
      "cell_type": "markdown",
      "metadata": {
        "id": "-Gvqtnmy_0Rv"
      },
      "source": [
        "**Worked Example Using the UpSampling 2D Layer**"
      ]
    },
    {
      "cell_type": "code",
      "metadata": {
        "id": "8qjwwqMi9KnL"
      },
      "source": [
        "#Import libraries\n",
        "from numpy import asarray\n",
        "from keras.models import Sequential\n",
        "from keras.layers import UpSampling2D"
      ],
      "execution_count": 1,
      "outputs": []
    },
    {
      "cell_type": "code",
      "metadata": {
        "colab": {
          "base_uri": "https://localhost:8080/"
        },
        "id": "p0VobGXZ_80Y",
        "outputId": "88f5ac60-4592-412b-8f74-6dcb451f3666"
      },
      "source": [
        "#Defining and showing input data\n",
        "X = asarray([[1, 2], [3, 4]])\n",
        "print(X)"
      ],
      "execution_count": 2,
      "outputs": [
        {
          "output_type": "stream",
          "text": [
            "[[1 2]\n",
            " [3 4]]\n"
          ],
          "name": "stdout"
        }
      ]
    },
    {
      "cell_type": "code",
      "metadata": {
        "id": "4JAatJ5ZAFdm"
      },
      "source": [
        "#Reshaping data to work with dataset\n",
        "X = X.reshape((1, 2, 2, 1))"
      ],
      "execution_count": 3,
      "outputs": []
    },
    {
      "cell_type": "code",
      "metadata": {
        "id": "w9ctJKZpALFN"
      },
      "source": [
        "#Defining model\n",
        "model = Sequential()\n",
        "model.add(UpSampling2D(input_shape=(2, 2, 1)))"
      ],
      "execution_count": 4,
      "outputs": []
    },
    {
      "cell_type": "code",
      "metadata": {
        "colab": {
          "base_uri": "https://localhost:8080/"
        },
        "id": "K6gyztvmAT4W",
        "outputId": "175b8e9b-fa35-459c-8250-c696da960f8f"
      },
      "source": [
        "#Outputs: Summarzing the model, making a prediction, reshaping for visual purposes, and summarizing the output\n",
        "model.summary()\n",
        "yhat = model.predict(X)\n",
        "yhat = yhat.reshape((4, 4))\n",
        "print(yhat)"
      ],
      "execution_count": 5,
      "outputs": [
        {
          "output_type": "stream",
          "text": [
            "Model: \"sequential\"\n",
            "_________________________________________________________________\n",
            "Layer (type)                 Output Shape              Param #   \n",
            "=================================================================\n",
            "up_sampling2d (UpSampling2D) (None, 4, 4, 1)           0         \n",
            "=================================================================\n",
            "Total params: 0\n",
            "Trainable params: 0\n",
            "Non-trainable params: 0\n",
            "_________________________________________________________________\n",
            "[[1. 1. 2. 2.]\n",
            " [1. 1. 2. 2.]\n",
            " [3. 3. 4. 4.]\n",
            " [3. 3. 4. 4.]]\n"
          ],
          "name": "stdout"
        }
      ]
    },
    {
      "cell_type": "markdown",
      "metadata": {
        "id": "Ea6eQkVgAhEN"
      },
      "source": [
        "**Generator Model with UpSampling2D Layer**"
      ]
    },
    {
      "cell_type": "code",
      "metadata": {
        "id": "LwyEEbMEApKu"
      },
      "source": [
        "#Import libraries\n",
        "from keras.models import Sequential\n",
        "from keras.layers import Dense\n",
        "from keras.layers import Reshape\n",
        "from keras.layers import UpSampling2D\n",
        "from keras.layers import Conv2D"
      ],
      "execution_count": 6,
      "outputs": []
    },
    {
      "cell_type": "code",
      "metadata": {
        "id": "FOvz8dyEA0YR"
      },
      "source": [
        "#Defining model architecture, reshaping data, adding UpSampling\n",
        "model = Sequential()\n",
        "model.add(Dense(128 * 5 * 5, input_dim=100))\n",
        "model.add(Reshape((5, 5, 128)))\n",
        "model.add(UpSampling2D())\n",
        "model.add(Conv2D(1, (3,3), padding='same'))"
      ],
      "execution_count": 7,
      "outputs": []
    },
    {
      "cell_type": "code",
      "metadata": {
        "colab": {
          "base_uri": "https://localhost:8080/"
        },
        "id": "8zIf6ptQBHyg",
        "outputId": "f94aff28-2db1-4ad1-9880-0e99c8b6397b"
      },
      "source": [
        "#Output: Summarizing the model\n",
        "model.summary()"
      ],
      "execution_count": 8,
      "outputs": [
        {
          "output_type": "stream",
          "text": [
            "Model: \"sequential_1\"\n",
            "_________________________________________________________________\n",
            "Layer (type)                 Output Shape              Param #   \n",
            "=================================================================\n",
            "dense (Dense)                (None, 3200)              323200    \n",
            "_________________________________________________________________\n",
            "reshape (Reshape)            (None, 5, 5, 128)         0         \n",
            "_________________________________________________________________\n",
            "up_sampling2d_1 (UpSampling2 (None, 10, 10, 128)       0         \n",
            "_________________________________________________________________\n",
            "conv2d (Conv2D)              (None, 10, 10, 1)         1153      \n",
            "=================================================================\n",
            "Total params: 324,353\n",
            "Trainable params: 324,353\n",
            "Non-trainable params: 0\n",
            "_________________________________________________________________\n"
          ],
          "name": "stdout"
        }
      ]
    },
    {
      "cell_type": "markdown",
      "metadata": {
        "id": "lW3FNXeOCppk"
      },
      "source": [
        "**Worked Example Using Conv2DTranspose Layer**"
      ]
    },
    {
      "cell_type": "code",
      "metadata": {
        "id": "2BB_NP2mCzTT"
      },
      "source": [
        "#Import libraries\n",
        "from numpy import asarray\n",
        "from keras.models import Sequential\n",
        "from keras.layers import Conv2DTranspose"
      ],
      "execution_count": 9,
      "outputs": []
    },
    {
      "cell_type": "code",
      "metadata": {
        "colab": {
          "base_uri": "https://localhost:8080/"
        },
        "id": "XXqK4ZdgDDIx",
        "outputId": "e67f350f-b83a-4b84-8cef-604bf4df41cf"
      },
      "source": [
        "#Defining, showing, and reshaping input data\n",
        "X = asarray([[1, 2],\n",
        "\t\t\t [3, 4]])\n",
        "print(X)\n",
        "X = X.reshape((1, 2, 2, 1))"
      ],
      "execution_count": 10,
      "outputs": [
        {
          "output_type": "stream",
          "text": [
            "[[1 2]\n",
            " [3 4]]\n"
          ],
          "name": "stdout"
        }
      ]
    },
    {
      "cell_type": "code",
      "metadata": {
        "colab": {
          "base_uri": "https://localhost:8080/"
        },
        "id": "e6iQl99UDKsH",
        "outputId": "68d5676a-c4cb-45e4-888d-ac90de95dd6c"
      },
      "source": [
        "#Defining the model and summarizing it\n",
        "model = Sequential()\n",
        "model.add(Conv2DTranspose(1, (1,1), strides=(2,2), input_shape=(2, 2, 1)))\n",
        "model.summary()"
      ],
      "execution_count": 11,
      "outputs": [
        {
          "output_type": "stream",
          "text": [
            "Model: \"sequential_2\"\n",
            "_________________________________________________________________\n",
            "Layer (type)                 Output Shape              Param #   \n",
            "=================================================================\n",
            "conv2d_transpose (Conv2DTran (None, 4, 4, 1)           2         \n",
            "=================================================================\n",
            "Total params: 2\n",
            "Trainable params: 2\n",
            "Non-trainable params: 0\n",
            "_________________________________________________________________\n"
          ],
          "name": "stdout"
        }
      ]
    },
    {
      "cell_type": "code",
      "metadata": {
        "id": "q1uPi3JrDQGb"
      },
      "source": [
        "#Defining and storing weights\n",
        "weights = [asarray([[[[1]]]]), asarray([0])]\n",
        "model.set_weights(weights)"
      ],
      "execution_count": 12,
      "outputs": []
    },
    {
      "cell_type": "code",
      "metadata": {
        "colab": {
          "base_uri": "https://localhost:8080/"
        },
        "id": "_CCmMDW7Dgr6",
        "outputId": "b8360092-e220-4e2b-d300-94ccf365626a"
      },
      "source": [
        "#Outputs: Making a prediction, reshaping for visual purposes, summarizing output\n",
        "yhat = model.predict(X)\n",
        "yhat = yhat.reshape((4, 4))\n",
        "print(yhat)"
      ],
      "execution_count": 13,
      "outputs": [
        {
          "output_type": "stream",
          "text": [
            "[[1. 0. 2. 0.]\n",
            " [0. 0. 0. 0.]\n",
            " [3. 0. 4. 0.]\n",
            " [0. 0. 0. 0.]]\n"
          ],
          "name": "stdout"
        }
      ]
    },
    {
      "cell_type": "markdown",
      "metadata": {
        "id": "eHDc-U3bD4mO"
      },
      "source": [
        "**Generator Model with Conv2DTranspose Layer**"
      ]
    },
    {
      "cell_type": "code",
      "metadata": {
        "id": "6CZyTXCDD_45"
      },
      "source": [
        "#Import libraries\n",
        "from keras.models import Sequential\n",
        "from keras.layers import Dense\n",
        "from keras.layers import Reshape\n",
        "from keras.layers import Conv2DTranspose\n",
        "from keras.layers import Conv2D"
      ],
      "execution_count": 14,
      "outputs": []
    },
    {
      "cell_type": "code",
      "metadata": {
        "id": "bUxC-v2kEFlt"
      },
      "source": [
        "#Defining model architecture\n",
        "model = Sequential()\n",
        "model.add(Dense(128 * 5 * 5, input_dim=100))"
      ],
      "execution_count": 15,
      "outputs": []
    },
    {
      "cell_type": "code",
      "metadata": {
        "id": "Y1bygm4zEOvh"
      },
      "source": [
        "#Reshaping data and doubling input\n",
        "model.add(Reshape((5, 5, 128)))\n",
        "model.add(Conv2DTranspose(1, (3,3), strides=(2,2), padding='same'))"
      ],
      "execution_count": 16,
      "outputs": []
    },
    {
      "cell_type": "code",
      "metadata": {
        "colab": {
          "base_uri": "https://localhost:8080/"
        },
        "id": "6pkmaVnuEW4Q",
        "outputId": "450d7c33-e800-4bbd-83d1-f467c2fe01bb"
      },
      "source": [
        "#Output: Summarizing the model\n",
        "model.summary()"
      ],
      "execution_count": 17,
      "outputs": [
        {
          "output_type": "stream",
          "text": [
            "Model: \"sequential_3\"\n",
            "_________________________________________________________________\n",
            "Layer (type)                 Output Shape              Param #   \n",
            "=================================================================\n",
            "dense_1 (Dense)              (None, 3200)              323200    \n",
            "_________________________________________________________________\n",
            "reshape_1 (Reshape)          (None, 5, 5, 128)         0         \n",
            "_________________________________________________________________\n",
            "conv2d_transpose_1 (Conv2DTr (None, 10, 10, 1)         1153      \n",
            "=================================================================\n",
            "Total params: 324,353\n",
            "Trainable params: 324,353\n",
            "Non-trainable params: 0\n",
            "_________________________________________________________________\n"
          ],
          "name": "stdout"
        }
      ]
    }
  ]
}
