{
  "nbformat": 4,
  "nbformat_minor": 0,
  "metadata": {
    "colab": {
      "name": "Day 14 (7-19) Project on Creating a Model for House Prices.ipynb",
      "provenance": [],
      "authorship_tag": "ABX9TyPh2i5mFKpB04uLN+CUf8G6",
      "include_colab_link": true
    },
    "kernelspec": {
      "name": "python3",
      "display_name": "Python 3"
    },
    "language_info": {
      "name": "python"
    }
  },
  "cells": [
    {
      "cell_type": "markdown",
      "metadata": {
        "id": "view-in-github",
        "colab_type": "text"
      },
      "source": [
        "<a href=\https://colab.research.google.com/github/aviaga/FutureMakers/blob/main/Day%2014%20(7-19)%20Project%20on%20Creating%20a%20Model%20for%20House%20Prices.ipynb" target=\"_parent\"><img src=\"https://colab.research.google.com/assets/colab-badge.svg\" alt=\"Open In Colab\"/></a>"
      ]
    },
    {
      "cell_type": "markdown",
      "metadata": {
        "id": "JsAbz38VLt7w"
      },
      "source": [
        "# Project Introduction\n",
        "This is the implementation of Day 14's Action Item for SureStart's summer program, 2021. \n",
        "\n",
        "The tutorial for this model development activity can be found [ here](https://hackernoon.com/build-your-first-neural-network-to-predict-house-prices-with-keras-3fb0839680f4)\n",
        "\n"
      ]
    },
    {
      "cell_type": "markdown",
      "metadata": {
        "id": "Xh11EA5VLIt0"
      },
      "source": [
        "# Model 1"
      ]
    },
    {
      "cell_type": "markdown",
      "metadata": {
        "id": "toQyYkNy6bLJ"
      },
      "source": [
        " **Data Preprocessing Steps**"
      ]
    },
    {
      "cell_type": "code",
      "metadata": {
        "id": "sElmQypqaprH"
      },
      "source": [
        "#Importing necessary libraries\n",
        "import pandas as pd\n",
        "from sklearn import preprocessing\n",
        "from sklearn.model_selection import train_test_split\n"
      ],
      "execution_count": 5,
      "outputs": []
    },
    {
      "cell_type": "code",
      "metadata": {
        "id": "uVrLCVvobdpx",
        "colab": {
          "resources": {
            "http://localhost:8080/nbextensions/google.colab/files.js": {
              "data": "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",
              "ok": true,
              "headers": [
                [
                  "content-type",
                  "application/javascript"
                ]
              ],
              "status": 200,
              "status_text": ""
            }
          },
          "base_uri": "https://localhost:8080/",
          "height": 73
        },
        "outputId": "d914fb76-d78b-44bf-f1c3-8f0271e4b5e1"
      },
      "source": [
        "#Importing dataset \n",
        "from google.colab import files\n",
        "uploaded = files.upload()"
      ],
      "execution_count": 6,
      "outputs": [
        {
          "output_type": "display_data",
          "data": {
            "text/html": [
              "\n",
              "     <input type=\"file\" id=\"files-dc764494-e09e-4b85-a1c0-64087207edeb\" name=\"files[]\" multiple disabled\n",
              "        style=\"border:none\" />\n",
              "     <output id=\"result-dc764494-e09e-4b85-a1c0-64087207edeb\">\n",
              "      Upload widget is only available when the cell has been executed in the\n",
              "      current browser session. Please rerun this cell to enable.\n",
              "      </output>\n",
              "      <script src=\"/nbextensions/google.colab/files.js\"></script> "
            ],
            "text/plain": [
              "<IPython.core.display.HTML object>"
            ]
          },
          "metadata": {
            "tags": []
          }
        },
        {
          "output_type": "stream",
          "text": [
            "Saving housepricedata.csv to housepricedata (1).csv\n"
          ],
          "name": "stdout"
        }
      ]
    },
    {
      "cell_type": "code",
      "metadata": {
        "id": "KLkuMd3adBUU"
      },
      "source": [
        "#Importing dataset\n",
        "import io\n",
        "df = pd.read_csv(io.BytesIO(uploaded['housepricedata.csv']))"
      ],
      "execution_count": 7,
      "outputs": []
    },
    {
      "cell_type": "code",
      "metadata": {
        "id": "Otsyw9HOdWh3"
      },
      "source": [
        "#Converting data to array format\n",
        "dataset = df.values"
      ],
      "execution_count": 8,
      "outputs": []
    },
    {
      "cell_type": "code",
      "metadata": {
        "id": "or5tEvNj3nc-"
      },
      "source": [
        "#Assigning first 10 columns of data in array to x\n",
        "X = dataset[:,0:10]"
      ],
      "execution_count": 9,
      "outputs": []
    },
    {
      "cell_type": "code",
      "metadata": {
        "id": "g7VZ_Csd4HSf"
      },
      "source": [
        "#Assigning last column of data in array to y\n",
        "Y = dataset[:,10]"
      ],
      "execution_count": 10,
      "outputs": []
    },
    {
      "cell_type": "code",
      "metadata": {
        "id": "S5joxzVb4pxt"
      },
      "source": [
        "#Scaling data for normalization\n",
        "min_max_scaler = preprocessing.MinMaxScaler()\n",
        "X_scale = min_max_scaler.fit_transform(X)"
      ],
      "execution_count": 11,
      "outputs": []
    },
    {
      "cell_type": "code",
      "metadata": {
        "id": "QSobnnac46jG",
        "colab": {
          "base_uri": "https://localhost:8080/"
        },
        "outputId": "c46c9828-a6ef-4a71-dd99-05e573e724ab"
      },
      "source": [
        "X_scale"
      ],
      "execution_count": 12,
      "outputs": [
        {
          "output_type": "execute_result",
          "data": {
            "text/plain": [
              "array([[0.0334198 , 0.66666667, 0.5       , ..., 0.5       , 0.        ,\n",
              "        0.3864598 ],\n",
              "       [0.03879502, 0.55555556, 0.875     , ..., 0.33333333, 0.33333333,\n",
              "        0.32440056],\n",
              "       [0.04650728, 0.66666667, 0.5       , ..., 0.33333333, 0.33333333,\n",
              "        0.42877292],\n",
              "       ...,\n",
              "       [0.03618687, 0.66666667, 1.        , ..., 0.58333333, 0.66666667,\n",
              "        0.17771509],\n",
              "       [0.03934189, 0.44444444, 0.625     , ..., 0.25      , 0.        ,\n",
              "        0.16925247],\n",
              "       [0.04037019, 0.44444444, 0.625     , ..., 0.33333333, 0.        ,\n",
              "        0.19464034]])"
            ]
          },
          "metadata": {
            "tags": []
          },
          "execution_count": 12
        }
      ]
    },
    {
      "cell_type": "code",
      "metadata": {
        "id": "JgRIa3Vb5R__"
      },
      "source": [
        "#Splitting dataset into train, test, and validation sets\n",
        "X_train, X_val_and_test, Y_train, Y_val_and_test = train_test_split(X_scale, Y, test_size=0.3)\n",
        "X_val, X_test, Y_val, Y_test = train_test_split(X_val_and_test, Y_val_and_test, test_size=0.5)"
      ],
      "execution_count": 13,
      "outputs": []
    },
    {
      "cell_type": "code",
      "metadata": {
        "id": "6m0TcEvo5oEL",
        "colab": {
          "base_uri": "https://localhost:8080/"
        },
        "outputId": "3a62f92c-b3cd-4c49-8703-c8ca119c4cdb"
      },
      "source": [
        "print(X_train.shape, X_val.shape, X_test.shape, Y_train.shape, Y_val.shape, Y_test.shape)"
      ],
      "execution_count": 14,
      "outputs": [
        {
          "output_type": "stream",
          "text": [
            "(1022, 10) (219, 10) (219, 10) (1022,) (219,) (219,)\n"
          ],
          "name": "stdout"
        }
      ]
    },
    {
      "cell_type": "markdown",
      "metadata": {
        "id": "ZMGpSuKr7aND"
      },
      "source": [
        "**Building and Training the Model**"
      ]
    },
    {
      "cell_type": "code",
      "metadata": {
        "id": "e6q6g-gY6Gm3"
      },
      "source": [
        "#Importing necessary libraries\n",
        "from keras.models import Sequential\n",
        "from keras.layers import Dense"
      ],
      "execution_count": 15,
      "outputs": []
    },
    {
      "cell_type": "code",
      "metadata": {
        "id": "lraI8aFk7ezW"
      },
      "source": [
        "#Defining model architecture/structure\n",
        "model = Sequential([\n",
        "    Dense(32, activation='relu', input_shape=(10,)),\n",
        "    Dense(32, activation='relu'),\n",
        "    Dense(1, activation='sigmoid'),\n",
        "])"
      ],
      "execution_count": 16,
      "outputs": []
    },
    {
      "cell_type": "code",
      "metadata": {
        "id": "RMlNo-Wb7uQy"
      },
      "source": [
        "# Model configuration\n",
        "model.compile(optimizer='sgd',\n",
        "              loss='binary_crossentropy',\n",
        "              metrics=['accuracy'])"
      ],
      "execution_count": 17,
      "outputs": []
    },
    {
      "cell_type": "code",
      "metadata": {
        "id": "I-e2ZCEI77Az",
        "colab": {
          "base_uri": "https://localhost:8080/"
        },
        "outputId": "e4c38896-bd82-4ddf-d641-8ef0df40c3a7"
      },
      "source": [
        "#Training model\n",
        "hist = model.fit(X_train, Y_train,\n",
        "          batch_size=32, epochs=100,\n",
        "          validation_data=(X_val, Y_val))"
      ],
      "execution_count": 18,
      "outputs": [
        {
          "output_type": "stream",
          "text": [
            "Epoch 1/100\n",
            "32/32 [==============================] - 15s 18ms/step - loss: 0.6901 - accuracy: 0.5065 - val_loss: 0.6755 - val_accuracy: 0.5662\n",
            "Epoch 2/100\n",
            "32/32 [==============================] - 0s 2ms/step - loss: 0.6754 - accuracy: 0.6146 - val_loss: 0.6619 - val_accuracy: 0.7717\n",
            "Epoch 3/100\n",
            "32/32 [==============================] - 0s 2ms/step - loss: 0.6646 - accuracy: 0.7501 - val_loss: 0.6512 - val_accuracy: 0.8082\n",
            "Epoch 4/100\n",
            "32/32 [==============================] - 0s 2ms/step - loss: 0.6528 - accuracy: 0.7930 - val_loss: 0.6422 - val_accuracy: 0.8174\n",
            "Epoch 5/100\n",
            "32/32 [==============================] - 0s 2ms/step - loss: 0.6471 - accuracy: 0.7629 - val_loss: 0.6339 - val_accuracy: 0.8082\n",
            "Epoch 6/100\n",
            "32/32 [==============================] - 0s 2ms/step - loss: 0.6386 - accuracy: 0.7921 - val_loss: 0.6259 - val_accuracy: 0.8082\n",
            "Epoch 7/100\n",
            "32/32 [==============================] - 0s 3ms/step - loss: 0.6348 - accuracy: 0.7629 - val_loss: 0.6179 - val_accuracy: 0.8082\n",
            "Epoch 8/100\n",
            "32/32 [==============================] - 0s 2ms/step - loss: 0.6268 - accuracy: 0.7934 - val_loss: 0.6099 - val_accuracy: 0.8128\n",
            "Epoch 9/100\n",
            "32/32 [==============================] - 0s 2ms/step - loss: 0.6171 - accuracy: 0.8065 - val_loss: 0.6016 - val_accuracy: 0.8082\n",
            "Epoch 10/100\n",
            "32/32 [==============================] - 0s 2ms/step - loss: 0.6087 - accuracy: 0.8032 - val_loss: 0.5931 - val_accuracy: 0.8174\n",
            "Epoch 11/100\n",
            "32/32 [==============================] - 0s 2ms/step - loss: 0.6048 - accuracy: 0.8013 - val_loss: 0.5843 - val_accuracy: 0.8265\n",
            "Epoch 12/100\n",
            "32/32 [==============================] - 0s 3ms/step - loss: 0.5927 - accuracy: 0.8271 - val_loss: 0.5754 - val_accuracy: 0.8311\n",
            "Epoch 13/100\n",
            "32/32 [==============================] - 0s 2ms/step - loss: 0.5903 - accuracy: 0.8301 - val_loss: 0.5661 - val_accuracy: 0.8311\n",
            "Epoch 14/100\n",
            "32/32 [==============================] - 0s 2ms/step - loss: 0.5831 - accuracy: 0.8238 - val_loss: 0.5566 - val_accuracy: 0.8356\n",
            "Epoch 15/100\n",
            "32/32 [==============================] - 0s 2ms/step - loss: 0.5752 - accuracy: 0.8271 - val_loss: 0.5468 - val_accuracy: 0.8447\n",
            "Epoch 16/100\n",
            "32/32 [==============================] - 0s 2ms/step - loss: 0.5685 - accuracy: 0.8180 - val_loss: 0.5368 - val_accuracy: 0.8447\n",
            "Epoch 17/100\n",
            "32/32 [==============================] - 0s 2ms/step - loss: 0.5563 - accuracy: 0.8311 - val_loss: 0.5266 - val_accuracy: 0.8447\n",
            "Epoch 18/100\n",
            "32/32 [==============================] - 0s 2ms/step - loss: 0.5403 - accuracy: 0.8503 - val_loss: 0.5161 - val_accuracy: 0.8539\n",
            "Epoch 19/100\n",
            "32/32 [==============================] - 0s 2ms/step - loss: 0.5265 - accuracy: 0.8683 - val_loss: 0.5057 - val_accuracy: 0.8676\n",
            "Epoch 20/100\n",
            "32/32 [==============================] - 0s 2ms/step - loss: 0.5409 - accuracy: 0.8384 - val_loss: 0.4951 - val_accuracy: 0.8721\n",
            "Epoch 21/100\n",
            "32/32 [==============================] - 0s 3ms/step - loss: 0.5136 - accuracy: 0.8532 - val_loss: 0.4847 - val_accuracy: 0.8721\n",
            "Epoch 22/100\n",
            "32/32 [==============================] - 0s 2ms/step - loss: 0.5084 - accuracy: 0.8471 - val_loss: 0.4745 - val_accuracy: 0.8858\n",
            "Epoch 23/100\n",
            "32/32 [==============================] - 0s 2ms/step - loss: 0.5032 - accuracy: 0.8524 - val_loss: 0.4642 - val_accuracy: 0.8904\n",
            "Epoch 24/100\n",
            "32/32 [==============================] - 0s 2ms/step - loss: 0.4967 - accuracy: 0.8487 - val_loss: 0.4541 - val_accuracy: 0.8904\n",
            "Epoch 25/100\n",
            "32/32 [==============================] - 0s 2ms/step - loss: 0.4688 - accuracy: 0.8702 - val_loss: 0.4442 - val_accuracy: 0.8858\n",
            "Epoch 26/100\n",
            "32/32 [==============================] - 0s 2ms/step - loss: 0.4747 - accuracy: 0.8574 - val_loss: 0.4343 - val_accuracy: 0.8904\n",
            "Epoch 27/100\n",
            "32/32 [==============================] - 0s 2ms/step - loss: 0.4681 - accuracy: 0.8556 - val_loss: 0.4246 - val_accuracy: 0.8858\n",
            "Epoch 28/100\n",
            "32/32 [==============================] - 0s 2ms/step - loss: 0.4640 - accuracy: 0.8459 - val_loss: 0.4157 - val_accuracy: 0.8858\n",
            "Epoch 29/100\n",
            "32/32 [==============================] - 0s 2ms/step - loss: 0.4372 - accuracy: 0.8676 - val_loss: 0.4070 - val_accuracy: 0.8904\n",
            "Epoch 30/100\n",
            "32/32 [==============================] - 0s 2ms/step - loss: 0.4392 - accuracy: 0.8668 - val_loss: 0.3986 - val_accuracy: 0.8904\n",
            "Epoch 31/100\n",
            "32/32 [==============================] - 0s 2ms/step - loss: 0.4350 - accuracy: 0.8586 - val_loss: 0.3907 - val_accuracy: 0.8858\n",
            "Epoch 32/100\n",
            "32/32 [==============================] - 0s 3ms/step - loss: 0.4295 - accuracy: 0.8622 - val_loss: 0.3830 - val_accuracy: 0.8904\n",
            "Epoch 33/100\n",
            "32/32 [==============================] - 0s 2ms/step - loss: 0.4146 - accuracy: 0.8658 - val_loss: 0.3759 - val_accuracy: 0.8858\n",
            "Epoch 34/100\n",
            "32/32 [==============================] - 0s 2ms/step - loss: 0.4353 - accuracy: 0.8364 - val_loss: 0.3688 - val_accuracy: 0.8904\n",
            "Epoch 35/100\n",
            "32/32 [==============================] - 0s 2ms/step - loss: 0.4019 - accuracy: 0.8690 - val_loss: 0.3630 - val_accuracy: 0.8858\n",
            "Epoch 36/100\n",
            "32/32 [==============================] - 0s 2ms/step - loss: 0.3987 - accuracy: 0.8682 - val_loss: 0.3562 - val_accuracy: 0.8904\n",
            "Epoch 37/100\n",
            "32/32 [==============================] - 0s 2ms/step - loss: 0.3918 - accuracy: 0.8759 - val_loss: 0.3505 - val_accuracy: 0.8858\n",
            "Epoch 38/100\n",
            "32/32 [==============================] - 0s 2ms/step - loss: 0.4062 - accuracy: 0.8591 - val_loss: 0.3451 - val_accuracy: 0.8904\n",
            "Epoch 39/100\n",
            "32/32 [==============================] - 0s 2ms/step - loss: 0.3758 - accuracy: 0.8819 - val_loss: 0.3401 - val_accuracy: 0.8858\n",
            "Epoch 40/100\n",
            "32/32 [==============================] - 0s 2ms/step - loss: 0.3710 - accuracy: 0.8691 - val_loss: 0.3356 - val_accuracy: 0.8858\n",
            "Epoch 41/100\n",
            "32/32 [==============================] - 0s 3ms/step - loss: 0.3773 - accuracy: 0.8695 - val_loss: 0.3306 - val_accuracy: 0.8858\n",
            "Epoch 42/100\n",
            "32/32 [==============================] - 0s 2ms/step - loss: 0.3857 - accuracy: 0.8694 - val_loss: 0.3271 - val_accuracy: 0.8858\n",
            "Epoch 43/100\n",
            "32/32 [==============================] - 0s 2ms/step - loss: 0.3575 - accuracy: 0.8885 - val_loss: 0.3222 - val_accuracy: 0.8858\n",
            "Epoch 44/100\n",
            "32/32 [==============================] - 0s 2ms/step - loss: 0.3375 - accuracy: 0.8831 - val_loss: 0.3182 - val_accuracy: 0.8904\n",
            "Epoch 45/100\n",
            "32/32 [==============================] - 0s 2ms/step - loss: 0.3628 - accuracy: 0.8767 - val_loss: 0.3147 - val_accuracy: 0.8904\n",
            "Epoch 46/100\n",
            "32/32 [==============================] - 0s 2ms/step - loss: 0.3591 - accuracy: 0.8675 - val_loss: 0.3112 - val_accuracy: 0.8904\n",
            "Epoch 47/100\n",
            "32/32 [==============================] - 0s 3ms/step - loss: 0.3686 - accuracy: 0.8705 - val_loss: 0.3081 - val_accuracy: 0.8858\n",
            "Epoch 48/100\n",
            "32/32 [==============================] - 0s 2ms/step - loss: 0.3478 - accuracy: 0.8831 - val_loss: 0.3049 - val_accuracy: 0.8904\n",
            "Epoch 49/100\n",
            "32/32 [==============================] - 0s 2ms/step - loss: 0.3468 - accuracy: 0.8799 - val_loss: 0.3019 - val_accuracy: 0.8904\n",
            "Epoch 50/100\n",
            "32/32 [==============================] - 0s 2ms/step - loss: 0.3336 - accuracy: 0.8895 - val_loss: 0.2992 - val_accuracy: 0.8904\n",
            "Epoch 51/100\n",
            "32/32 [==============================] - 0s 3ms/step - loss: 0.3421 - accuracy: 0.8767 - val_loss: 0.2965 - val_accuracy: 0.8904\n",
            "Epoch 52/100\n",
            "32/32 [==============================] - 0s 2ms/step - loss: 0.3307 - accuracy: 0.8890 - val_loss: 0.2952 - val_accuracy: 0.8904\n",
            "Epoch 53/100\n",
            "32/32 [==============================] - 0s 2ms/step - loss: 0.3313 - accuracy: 0.8822 - val_loss: 0.2917 - val_accuracy: 0.8904\n",
            "Epoch 54/100\n",
            "32/32 [==============================] - 0s 2ms/step - loss: 0.3298 - accuracy: 0.8855 - val_loss: 0.2918 - val_accuracy: 0.8813\n",
            "Epoch 55/100\n",
            "32/32 [==============================] - 0s 3ms/step - loss: 0.3436 - accuracy: 0.8668 - val_loss: 0.2874 - val_accuracy: 0.8904\n",
            "Epoch 56/100\n",
            "32/32 [==============================] - 0s 2ms/step - loss: 0.3306 - accuracy: 0.8751 - val_loss: 0.2854 - val_accuracy: 0.8950\n",
            "Epoch 57/100\n",
            "32/32 [==============================] - 0s 2ms/step - loss: 0.3335 - accuracy: 0.8738 - val_loss: 0.2834 - val_accuracy: 0.8950\n",
            "Epoch 58/100\n",
            "32/32 [==============================] - 0s 2ms/step - loss: 0.3344 - accuracy: 0.8784 - val_loss: 0.2818 - val_accuracy: 0.8950\n",
            "Epoch 59/100\n",
            "32/32 [==============================] - 0s 2ms/step - loss: 0.3264 - accuracy: 0.8764 - val_loss: 0.2796 - val_accuracy: 0.8858\n",
            "Epoch 60/100\n",
            "32/32 [==============================] - 0s 2ms/step - loss: 0.3353 - accuracy: 0.8746 - val_loss: 0.2777 - val_accuracy: 0.8904\n",
            "Epoch 61/100\n",
            "32/32 [==============================] - 0s 2ms/step - loss: 0.3114 - accuracy: 0.8879 - val_loss: 0.2761 - val_accuracy: 0.8950\n",
            "Epoch 62/100\n",
            "32/32 [==============================] - 0s 2ms/step - loss: 0.3359 - accuracy: 0.8780 - val_loss: 0.2748 - val_accuracy: 0.8950\n",
            "Epoch 63/100\n",
            "32/32 [==============================] - 0s 2ms/step - loss: 0.3002 - accuracy: 0.8911 - val_loss: 0.2734 - val_accuracy: 0.8904\n",
            "Epoch 64/100\n",
            "32/32 [==============================] - 0s 3ms/step - loss: 0.3117 - accuracy: 0.8817 - val_loss: 0.2716 - val_accuracy: 0.8813\n",
            "Epoch 65/100\n",
            "32/32 [==============================] - 0s 2ms/step - loss: 0.3139 - accuracy: 0.8783 - val_loss: 0.2703 - val_accuracy: 0.8950\n",
            "Epoch 66/100\n",
            "32/32 [==============================] - 0s 2ms/step - loss: 0.3040 - accuracy: 0.8848 - val_loss: 0.2696 - val_accuracy: 0.9087\n",
            "Epoch 67/100\n",
            "32/32 [==============================] - 0s 2ms/step - loss: 0.3224 - accuracy: 0.8702 - val_loss: 0.2674 - val_accuracy: 0.8950\n",
            "Epoch 68/100\n",
            "32/32 [==============================] - 0s 2ms/step - loss: 0.3317 - accuracy: 0.8755 - val_loss: 0.2661 - val_accuracy: 0.8995\n",
            "Epoch 69/100\n",
            "32/32 [==============================] - 0s 2ms/step - loss: 0.3312 - accuracy: 0.8783 - val_loss: 0.2648 - val_accuracy: 0.8950\n",
            "Epoch 70/100\n",
            "32/32 [==============================] - 0s 2ms/step - loss: 0.3340 - accuracy: 0.8736 - val_loss: 0.2638 - val_accuracy: 0.9041\n",
            "Epoch 71/100\n",
            "32/32 [==============================] - 0s 2ms/step - loss: 0.3217 - accuracy: 0.8776 - val_loss: 0.2626 - val_accuracy: 0.9087\n",
            "Epoch 72/100\n",
            "32/32 [==============================] - 0s 2ms/step - loss: 0.3116 - accuracy: 0.8709 - val_loss: 0.2612 - val_accuracy: 0.9041\n",
            "Epoch 73/100\n",
            "32/32 [==============================] - 0s 3ms/step - loss: 0.3217 - accuracy: 0.8682 - val_loss: 0.2599 - val_accuracy: 0.8858\n",
            "Epoch 74/100\n",
            "32/32 [==============================] - 0s 3ms/step - loss: 0.3076 - accuracy: 0.8772 - val_loss: 0.2589 - val_accuracy: 0.8858\n",
            "Epoch 75/100\n",
            "32/32 [==============================] - 0s 2ms/step - loss: 0.3196 - accuracy: 0.8687 - val_loss: 0.2585 - val_accuracy: 0.9132\n",
            "Epoch 76/100\n",
            "32/32 [==============================] - 0s 2ms/step - loss: 0.3092 - accuracy: 0.8802 - val_loss: 0.2567 - val_accuracy: 0.9041\n",
            "Epoch 77/100\n",
            "32/32 [==============================] - 0s 2ms/step - loss: 0.3090 - accuracy: 0.8789 - val_loss: 0.2556 - val_accuracy: 0.8995\n",
            "Epoch 78/100\n",
            "32/32 [==============================] - 0s 2ms/step - loss: 0.3195 - accuracy: 0.8758 - val_loss: 0.2547 - val_accuracy: 0.9087\n",
            "Epoch 79/100\n",
            "32/32 [==============================] - 0s 2ms/step - loss: 0.3201 - accuracy: 0.8669 - val_loss: 0.2538 - val_accuracy: 0.9132\n",
            "Epoch 80/100\n",
            "32/32 [==============================] - 0s 2ms/step - loss: 0.3194 - accuracy: 0.8706 - val_loss: 0.2535 - val_accuracy: 0.9178\n",
            "Epoch 81/100\n",
            "32/32 [==============================] - 0s 2ms/step - loss: 0.3002 - accuracy: 0.8805 - val_loss: 0.2520 - val_accuracy: 0.8904\n",
            "Epoch 82/100\n",
            "32/32 [==============================] - 0s 2ms/step - loss: 0.3024 - accuracy: 0.8852 - val_loss: 0.2512 - val_accuracy: 0.9132\n",
            "Epoch 83/100\n",
            "32/32 [==============================] - 0s 2ms/step - loss: 0.3234 - accuracy: 0.8722 - val_loss: 0.2503 - val_accuracy: 0.9132\n",
            "Epoch 84/100\n",
            "32/32 [==============================] - 0s 2ms/step - loss: 0.3130 - accuracy: 0.8832 - val_loss: 0.2491 - val_accuracy: 0.8950\n",
            "Epoch 85/100\n",
            "32/32 [==============================] - 0s 3ms/step - loss: 0.2931 - accuracy: 0.8809 - val_loss: 0.2494 - val_accuracy: 0.9178\n",
            "Epoch 86/100\n",
            "32/32 [==============================] - 0s 3ms/step - loss: 0.2851 - accuracy: 0.8841 - val_loss: 0.2501 - val_accuracy: 0.9132\n",
            "Epoch 87/100\n",
            "32/32 [==============================] - 0s 2ms/step - loss: 0.3053 - accuracy: 0.8892 - val_loss: 0.2469 - val_accuracy: 0.9087\n",
            "Epoch 88/100\n",
            "32/32 [==============================] - 0s 2ms/step - loss: 0.2860 - accuracy: 0.8843 - val_loss: 0.2465 - val_accuracy: 0.9178\n",
            "Epoch 89/100\n",
            "32/32 [==============================] - 0s 2ms/step - loss: 0.3014 - accuracy: 0.8898 - val_loss: 0.2453 - val_accuracy: 0.9087\n",
            "Epoch 90/100\n",
            "32/32 [==============================] - 0s 2ms/step - loss: 0.2943 - accuracy: 0.8851 - val_loss: 0.2448 - val_accuracy: 0.8950\n",
            "Epoch 91/100\n",
            "32/32 [==============================] - 0s 2ms/step - loss: 0.2948 - accuracy: 0.8856 - val_loss: 0.2437 - val_accuracy: 0.9041\n",
            "Epoch 92/100\n",
            "32/32 [==============================] - 0s 2ms/step - loss: 0.2949 - accuracy: 0.8811 - val_loss: 0.2447 - val_accuracy: 0.9224\n",
            "Epoch 93/100\n",
            "32/32 [==============================] - 0s 3ms/step - loss: 0.2873 - accuracy: 0.8985 - val_loss: 0.2424 - val_accuracy: 0.8950\n",
            "Epoch 94/100\n",
            "32/32 [==============================] - 0s 2ms/step - loss: 0.3107 - accuracy: 0.8698 - val_loss: 0.2416 - val_accuracy: 0.9041\n",
            "Epoch 95/100\n",
            "32/32 [==============================] - 0s 2ms/step - loss: 0.2798 - accuracy: 0.8808 - val_loss: 0.2409 - val_accuracy: 0.9041\n",
            "Epoch 96/100\n",
            "32/32 [==============================] - 0s 2ms/step - loss: 0.3248 - accuracy: 0.8738 - val_loss: 0.2403 - val_accuracy: 0.8995\n",
            "Epoch 97/100\n",
            "32/32 [==============================] - 0s 2ms/step - loss: 0.2919 - accuracy: 0.8826 - val_loss: 0.2396 - val_accuracy: 0.9041\n",
            "Epoch 98/100\n",
            "32/32 [==============================] - 0s 2ms/step - loss: 0.2874 - accuracy: 0.8926 - val_loss: 0.2392 - val_accuracy: 0.9087\n",
            "Epoch 99/100\n",
            "32/32 [==============================] - 0s 2ms/step - loss: 0.2968 - accuracy: 0.8856 - val_loss: 0.2383 - val_accuracy: 0.9041\n",
            "Epoch 100/100\n",
            "32/32 [==============================] - 0s 2ms/step - loss: 0.3109 - accuracy: 0.8731 - val_loss: 0.2383 - val_accuracy: 0.9087\n"
          ],
          "name": "stdout"
        }
      ]
    },
    {
      "cell_type": "code",
      "metadata": {
        "id": "_MeGEoCr9hop",
        "colab": {
          "base_uri": "https://localhost:8080/"
        },
        "outputId": "0875c86b-dd8c-43ba-feed-fd970be86282"
      },
      "source": [
        "#Evaluating model on test dataset\n",
        "model.evaluate(X_test, Y_test)[1]"
      ],
      "execution_count": 19,
      "outputs": [
        {
          "output_type": "stream",
          "text": [
            "7/7 [==============================] - 0s 2ms/step - loss: 0.2948 - accuracy: 0.8676\n"
          ],
          "name": "stdout"
        },
        {
          "output_type": "execute_result",
          "data": {
            "text/plain": [
              "0.8675799369812012"
            ]
          },
          "metadata": {
            "tags": []
          },
          "execution_count": 19
        }
      ]
    },
    {
      "cell_type": "markdown",
      "metadata": {
        "id": "OeXiqrE_BCeC"
      },
      "source": [
        "**Visualizing Loss & Accuracy**"
      ]
    },
    {
      "cell_type": "code",
      "metadata": {
        "id": "LZq7ttd7BGsd"
      },
      "source": [
        "#Import library\n",
        "import matplotlib.pyplot as plt"
      ],
      "execution_count": 20,
      "outputs": []
    },
    {
      "cell_type": "code",
      "metadata": {
        "id": "_ug9DgTcBUYA",
        "colab": {
          "base_uri": "https://localhost:8080/",
          "height": 295
        },
        "outputId": "5af7250e-50d8-4502-9af9-c28f4a04e8b4"
      },
      "source": [
        "#Visualizing the loss of the model on the training and validation dataset\n",
        "plt.plot(hist.history['loss'])\n",
        "plt.plot(hist.history['val_loss'])\n",
        "plt.title('Model loss')\n",
        "plt.ylabel('Loss')\n",
        "plt.xlabel('Epoch')\n",
        "plt.legend(['Train', 'Val'], loc='upper right')\n",
        "plt.show()"
      ],
      "execution_count": 21,
      "outputs": [
        {
          "output_type": "display_data",
          "data": {
            "image/png": "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\n",
            "text/plain": [
              "<Figure size 432x288 with 1 Axes>"
            ]
          },
          "metadata": {
            "tags": [],
            "needs_background": "light"
          }
        }
      ]
    },
    {
      "cell_type": "code",
      "metadata": {
        "id": "WthMllbfB-bE",
        "colab": {
          "base_uri": "https://localhost:8080/",
          "height": 295
        },
        "outputId": "5e6d496a-af77-4cb6-e902-fe76e065041d"
      },
      "source": [
        "#Visualizing the accuracy of the model on the training and validation dataset\n",
        "plt.plot(hist.history['accuracy'])\n",
        "plt.plot(hist.history['val_accuracy'])\n",
        "plt.title('Model accuracy')\n",
        "plt.ylabel('Accuracy')\n",
        "plt.xlabel('Epoch')\n",
        "plt.legend(['Train', 'Val'], loc='lower right')\n",
        "plt.show()"
      ],
      "execution_count": 22,
      "outputs": [
        {
          "output_type": "display_data",
          "data": {
            "image/png": "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\n",
            "text/plain": [
              "<Figure size 432x288 with 1 Axes>"
            ]
          },
          "metadata": {
            "tags": [],
            "needs_background": "light"
          }
        }
      ]
    },
    {
      "cell_type": "markdown",
      "metadata": {
        "id": "-eW_OJHNIAZJ"
      },
      "source": [
        "# Showcasing the Need for Regularization - Making Another Model"
      ]
    },
    {
      "cell_type": "code",
      "metadata": {
        "id": "8-_OqS0HIM1c"
      },
      "source": [
        "model_2 = Sequential([\n",
        "    Dense(1000, activation='relu', input_shape=(10,)),\n",
        "    Dense(1000, activation='relu'),\n",
        "    Dense(1000, activation='relu'),\n",
        "    Dense(1000, activation='relu'),\n",
        "    Dense(1, activation='sigmoid'),\n",
        "])"
      ],
      "execution_count": 23,
      "outputs": []
    },
    {
      "cell_type": "code",
      "metadata": {
        "id": "VuDwt3bkIRZ8"
      },
      "source": [
        "model_2.compile(optimizer='adam',\n",
        "              loss='binary_crossentropy',\n",
        "              metrics=['accuracy'])"
      ],
      "execution_count": 24,
      "outputs": []
    },
    {
      "cell_type": "code",
      "metadata": {
        "id": "OmQNz3urIWSh",
        "colab": {
          "base_uri": "https://localhost:8080/"
        },
        "outputId": "38bad22a-2b2d-4c6c-d069-b642e01c0c5e"
      },
      "source": [
        "hist_2 = model_2.fit(X_train, Y_train,\n",
        "          batch_size=32, epochs=100,\n",
        "          validation_data=(X_val, Y_val))"
      ],
      "execution_count": 25,
      "outputs": [
        {
          "output_type": "stream",
          "text": [
            "Epoch 1/100\n",
            "32/32 [==============================] - 2s 47ms/step - loss: 0.6197 - accuracy: 0.6034 - val_loss: 0.3393 - val_accuracy: 0.8630\n",
            "Epoch 2/100\n",
            "32/32 [==============================] - 1s 36ms/step - loss: 0.3738 - accuracy: 0.8522 - val_loss: 0.2613 - val_accuracy: 0.8767\n",
            "Epoch 3/100\n",
            "32/32 [==============================] - 1s 36ms/step - loss: 0.3826 - accuracy: 0.8490 - val_loss: 0.2422 - val_accuracy: 0.8904\n",
            "Epoch 4/100\n",
            "32/32 [==============================] - 1s 37ms/step - loss: 0.3186 - accuracy: 0.8759 - val_loss: 0.2251 - val_accuracy: 0.9041\n",
            "Epoch 5/100\n",
            "32/32 [==============================] - 1s 36ms/step - loss: 0.2604 - accuracy: 0.9021 - val_loss: 0.2443 - val_accuracy: 0.8858\n",
            "Epoch 6/100\n",
            "32/32 [==============================] - 1s 36ms/step - loss: 0.2802 - accuracy: 0.8689 - val_loss: 0.2151 - val_accuracy: 0.8858\n",
            "Epoch 7/100\n",
            "32/32 [==============================] - 1s 36ms/step - loss: 0.2584 - accuracy: 0.8810 - val_loss: 0.2047 - val_accuracy: 0.8995\n",
            "Epoch 8/100\n",
            "32/32 [==============================] - 1s 36ms/step - loss: 0.2258 - accuracy: 0.8985 - val_loss: 0.1989 - val_accuracy: 0.9041\n",
            "Epoch 9/100\n",
            "32/32 [==============================] - 1s 36ms/step - loss: 0.2548 - accuracy: 0.8940 - val_loss: 0.2063 - val_accuracy: 0.9132\n",
            "Epoch 10/100\n",
            "32/32 [==============================] - 1s 35ms/step - loss: 0.2462 - accuracy: 0.9026 - val_loss: 0.1842 - val_accuracy: 0.9224\n",
            "Epoch 11/100\n",
            "32/32 [==============================] - 1s 36ms/step - loss: 0.2358 - accuracy: 0.8960 - val_loss: 0.1853 - val_accuracy: 0.9132\n",
            "Epoch 12/100\n",
            "32/32 [==============================] - 1s 36ms/step - loss: 0.2311 - accuracy: 0.9064 - val_loss: 0.2101 - val_accuracy: 0.9315\n",
            "Epoch 13/100\n",
            "32/32 [==============================] - 1s 36ms/step - loss: 0.2191 - accuracy: 0.9164 - val_loss: 0.1659 - val_accuracy: 0.9269\n",
            "Epoch 14/100\n",
            "32/32 [==============================] - 1s 36ms/step - loss: 0.1927 - accuracy: 0.9235 - val_loss: 0.1639 - val_accuracy: 0.9361\n",
            "Epoch 15/100\n",
            "32/32 [==============================] - 1s 36ms/step - loss: 0.1837 - accuracy: 0.9306 - val_loss: 0.2030 - val_accuracy: 0.9361\n",
            "Epoch 16/100\n",
            "32/32 [==============================] - 1s 36ms/step - loss: 0.2111 - accuracy: 0.9121 - val_loss: 0.1676 - val_accuracy: 0.9315\n",
            "Epoch 17/100\n",
            "32/32 [==============================] - 1s 36ms/step - loss: 0.2074 - accuracy: 0.9140 - val_loss: 0.1838 - val_accuracy: 0.9361\n",
            "Epoch 18/100\n",
            "32/32 [==============================] - 1s 36ms/step - loss: 0.2280 - accuracy: 0.8896 - val_loss: 0.1948 - val_accuracy: 0.9087\n",
            "Epoch 19/100\n",
            "32/32 [==============================] - 1s 36ms/step - loss: 0.1882 - accuracy: 0.9185 - val_loss: 0.1743 - val_accuracy: 0.9178\n",
            "Epoch 20/100\n",
            "32/32 [==============================] - 1s 36ms/step - loss: 0.2386 - accuracy: 0.8919 - val_loss: 0.1627 - val_accuracy: 0.9041\n",
            "Epoch 21/100\n",
            "32/32 [==============================] - 1s 36ms/step - loss: 0.1960 - accuracy: 0.9233 - val_loss: 0.2031 - val_accuracy: 0.9041\n",
            "Epoch 22/100\n",
            "32/32 [==============================] - 1s 37ms/step - loss: 0.1807 - accuracy: 0.9285 - val_loss: 0.1736 - val_accuracy: 0.9315\n",
            "Epoch 23/100\n",
            "32/32 [==============================] - 1s 36ms/step - loss: 0.1982 - accuracy: 0.9216 - val_loss: 0.1951 - val_accuracy: 0.9178\n",
            "Epoch 24/100\n",
            "32/32 [==============================] - 1s 36ms/step - loss: 0.1856 - accuracy: 0.9248 - val_loss: 0.1761 - val_accuracy: 0.9406\n",
            "Epoch 25/100\n",
            "32/32 [==============================] - 1s 37ms/step - loss: 0.1795 - accuracy: 0.9208 - val_loss: 0.2430 - val_accuracy: 0.9087\n",
            "Epoch 26/100\n",
            "32/32 [==============================] - 1s 36ms/step - loss: 0.2338 - accuracy: 0.9034 - val_loss: 0.1671 - val_accuracy: 0.9361\n",
            "Epoch 27/100\n",
            "32/32 [==============================] - 1s 36ms/step - loss: 0.1832 - accuracy: 0.9278 - val_loss: 0.1802 - val_accuracy: 0.9224\n",
            "Epoch 28/100\n",
            "32/32 [==============================] - 1s 36ms/step - loss: 0.1812 - accuracy: 0.9322 - val_loss: 0.1642 - val_accuracy: 0.9315\n",
            "Epoch 29/100\n",
            "32/32 [==============================] - 1s 35ms/step - loss: 0.1695 - accuracy: 0.9302 - val_loss: 0.1785 - val_accuracy: 0.9178\n",
            "Epoch 30/100\n",
            "32/32 [==============================] - 1s 36ms/step - loss: 0.1892 - accuracy: 0.9157 - val_loss: 0.1591 - val_accuracy: 0.9361\n",
            "Epoch 31/100\n",
            "32/32 [==============================] - 1s 37ms/step - loss: 0.1839 - accuracy: 0.9233 - val_loss: 0.1733 - val_accuracy: 0.9178\n",
            "Epoch 32/100\n",
            "32/32 [==============================] - 1s 36ms/step - loss: 0.1802 - accuracy: 0.9277 - val_loss: 0.1611 - val_accuracy: 0.9406\n",
            "Epoch 33/100\n",
            "32/32 [==============================] - 1s 36ms/step - loss: 0.1689 - accuracy: 0.9347 - val_loss: 0.1661 - val_accuracy: 0.9315\n",
            "Epoch 34/100\n",
            "32/32 [==============================] - 1s 36ms/step - loss: 0.1541 - accuracy: 0.9413 - val_loss: 0.1669 - val_accuracy: 0.9178\n",
            "Epoch 35/100\n",
            "32/32 [==============================] - 1s 37ms/step - loss: 0.1638 - accuracy: 0.9364 - val_loss: 0.1481 - val_accuracy: 0.9543\n",
            "Epoch 36/100\n",
            "32/32 [==============================] - 1s 37ms/step - loss: 0.1630 - accuracy: 0.9311 - val_loss: 0.2177 - val_accuracy: 0.9132\n",
            "Epoch 37/100\n",
            "32/32 [==============================] - 1s 37ms/step - loss: 0.1899 - accuracy: 0.9210 - val_loss: 0.1602 - val_accuracy: 0.9269\n",
            "Epoch 38/100\n",
            "32/32 [==============================] - 1s 37ms/step - loss: 0.1987 - accuracy: 0.9251 - val_loss: 0.1674 - val_accuracy: 0.9361\n",
            "Epoch 39/100\n",
            "32/32 [==============================] - 1s 36ms/step - loss: 0.2020 - accuracy: 0.9095 - val_loss: 0.1832 - val_accuracy: 0.9269\n",
            "Epoch 40/100\n",
            "32/32 [==============================] - 1s 37ms/step - loss: 0.1741 - accuracy: 0.9308 - val_loss: 0.1830 - val_accuracy: 0.8950\n",
            "Epoch 41/100\n",
            "32/32 [==============================] - 1s 36ms/step - loss: 0.1555 - accuracy: 0.9333 - val_loss: 0.1492 - val_accuracy: 0.9406\n",
            "Epoch 42/100\n",
            "32/32 [==============================] - 1s 36ms/step - loss: 0.1530 - accuracy: 0.9316 - val_loss: 0.2983 - val_accuracy: 0.8950\n",
            "Epoch 43/100\n",
            "32/32 [==============================] - 1s 36ms/step - loss: 0.1979 - accuracy: 0.9181 - val_loss: 0.1860 - val_accuracy: 0.9224\n",
            "Epoch 44/100\n",
            "32/32 [==============================] - 1s 36ms/step - loss: 0.1784 - accuracy: 0.9285 - val_loss: 0.1641 - val_accuracy: 0.9315\n",
            "Epoch 45/100\n",
            "32/32 [==============================] - 1s 37ms/step - loss: 0.1370 - accuracy: 0.9452 - val_loss: 0.1965 - val_accuracy: 0.9406\n",
            "Epoch 46/100\n",
            "32/32 [==============================] - 1s 38ms/step - loss: 0.1560 - accuracy: 0.9406 - val_loss: 0.1797 - val_accuracy: 0.9178\n",
            "Epoch 47/100\n",
            "32/32 [==============================] - 1s 37ms/step - loss: 0.1607 - accuracy: 0.9367 - val_loss: 0.2008 - val_accuracy: 0.9178\n",
            "Epoch 48/100\n",
            "32/32 [==============================] - 1s 37ms/step - loss: 0.1674 - accuracy: 0.9420 - val_loss: 0.2224 - val_accuracy: 0.9041\n",
            "Epoch 49/100\n",
            "32/32 [==============================] - 1s 37ms/step - loss: 0.1558 - accuracy: 0.9284 - val_loss: 0.1908 - val_accuracy: 0.9132\n",
            "Epoch 50/100\n",
            "32/32 [==============================] - 1s 36ms/step - loss: 0.1708 - accuracy: 0.9250 - val_loss: 0.1895 - val_accuracy: 0.9315\n",
            "Epoch 51/100\n",
            "32/32 [==============================] - 1s 37ms/step - loss: 0.1603 - accuracy: 0.9342 - val_loss: 0.1875 - val_accuracy: 0.9178\n",
            "Epoch 52/100\n",
            "32/32 [==============================] - 1s 36ms/step - loss: 0.1557 - accuracy: 0.9308 - val_loss: 0.1579 - val_accuracy: 0.9361\n",
            "Epoch 53/100\n",
            "32/32 [==============================] - 1s 36ms/step - loss: 0.1332 - accuracy: 0.9417 - val_loss: 0.1742 - val_accuracy: 0.9315\n",
            "Epoch 54/100\n",
            "32/32 [==============================] - 1s 37ms/step - loss: 0.1555 - accuracy: 0.9338 - val_loss: 0.1862 - val_accuracy: 0.9315\n",
            "Epoch 55/100\n",
            "32/32 [==============================] - 1s 36ms/step - loss: 0.1924 - accuracy: 0.9160 - val_loss: 0.2454 - val_accuracy: 0.8950\n",
            "Epoch 56/100\n",
            "32/32 [==============================] - 1s 37ms/step - loss: 0.2305 - accuracy: 0.8974 - val_loss: 0.3059 - val_accuracy: 0.8904\n",
            "Epoch 57/100\n",
            "32/32 [==============================] - 1s 37ms/step - loss: 0.2452 - accuracy: 0.8958 - val_loss: 0.1757 - val_accuracy: 0.9224\n",
            "Epoch 58/100\n",
            "32/32 [==============================] - 1s 37ms/step - loss: 0.1410 - accuracy: 0.9362 - val_loss: 0.1655 - val_accuracy: 0.9224\n",
            "Epoch 59/100\n",
            "32/32 [==============================] - 1s 37ms/step - loss: 0.1704 - accuracy: 0.9345 - val_loss: 0.2105 - val_accuracy: 0.8950\n",
            "Epoch 60/100\n",
            "32/32 [==============================] - 1s 37ms/step - loss: 0.1436 - accuracy: 0.9428 - val_loss: 0.1936 - val_accuracy: 0.9269\n",
            "Epoch 61/100\n",
            "32/32 [==============================] - 1s 37ms/step - loss: 0.1518 - accuracy: 0.9389 - val_loss: 0.2190 - val_accuracy: 0.8950\n",
            "Epoch 62/100\n",
            "32/32 [==============================] - 1s 37ms/step - loss: 0.1452 - accuracy: 0.9420 - val_loss: 0.1884 - val_accuracy: 0.9132\n",
            "Epoch 63/100\n",
            "32/32 [==============================] - 1s 37ms/step - loss: 0.1480 - accuracy: 0.9350 - val_loss: 0.2103 - val_accuracy: 0.9087\n",
            "Epoch 64/100\n",
            "32/32 [==============================] - 1s 36ms/step - loss: 0.1694 - accuracy: 0.9188 - val_loss: 0.1835 - val_accuracy: 0.9361\n",
            "Epoch 65/100\n",
            "32/32 [==============================] - 1s 36ms/step - loss: 0.1318 - accuracy: 0.9506 - val_loss: 0.1672 - val_accuracy: 0.9361\n",
            "Epoch 66/100\n",
            "32/32 [==============================] - 1s 36ms/step - loss: 0.1262 - accuracy: 0.9477 - val_loss: 0.1817 - val_accuracy: 0.9224\n",
            "Epoch 67/100\n",
            "32/32 [==============================] - 1s 36ms/step - loss: 0.1377 - accuracy: 0.9393 - val_loss: 0.1858 - val_accuracy: 0.9269\n",
            "Epoch 68/100\n",
            "32/32 [==============================] - 1s 36ms/step - loss: 0.1529 - accuracy: 0.9368 - val_loss: 0.1966 - val_accuracy: 0.9315\n",
            "Epoch 69/100\n",
            "32/32 [==============================] - 1s 37ms/step - loss: 0.1227 - accuracy: 0.9530 - val_loss: 0.1601 - val_accuracy: 0.9452\n",
            "Epoch 70/100\n",
            "32/32 [==============================] - 1s 38ms/step - loss: 0.1152 - accuracy: 0.9474 - val_loss: 0.1896 - val_accuracy: 0.9224\n",
            "Epoch 71/100\n",
            "32/32 [==============================] - 1s 36ms/step - loss: 0.1229 - accuracy: 0.9489 - val_loss: 0.1885 - val_accuracy: 0.9132\n",
            "Epoch 72/100\n",
            "32/32 [==============================] - 1s 37ms/step - loss: 0.1175 - accuracy: 0.9528 - val_loss: 0.1792 - val_accuracy: 0.9224\n",
            "Epoch 73/100\n",
            "32/32 [==============================] - 1s 37ms/step - loss: 0.1246 - accuracy: 0.9523 - val_loss: 0.1711 - val_accuracy: 0.9315\n",
            "Epoch 74/100\n",
            "32/32 [==============================] - 1s 37ms/step - loss: 0.1420 - accuracy: 0.9521 - val_loss: 0.2476 - val_accuracy: 0.8995\n",
            "Epoch 75/100\n",
            "32/32 [==============================] - 1s 38ms/step - loss: 0.1068 - accuracy: 0.9488 - val_loss: 0.2258 - val_accuracy: 0.9178\n",
            "Epoch 76/100\n",
            "32/32 [==============================] - 1s 37ms/step - loss: 0.1593 - accuracy: 0.9343 - val_loss: 0.1745 - val_accuracy: 0.9361\n",
            "Epoch 77/100\n",
            "32/32 [==============================] - 1s 37ms/step - loss: 0.1461 - accuracy: 0.9354 - val_loss: 0.1982 - val_accuracy: 0.9224\n",
            "Epoch 78/100\n",
            "32/32 [==============================] - 1s 36ms/step - loss: 0.1075 - accuracy: 0.9565 - val_loss: 0.2136 - val_accuracy: 0.8995\n",
            "Epoch 79/100\n",
            "32/32 [==============================] - 1s 37ms/step - loss: 0.1785 - accuracy: 0.9199 - val_loss: 0.2065 - val_accuracy: 0.9132\n",
            "Epoch 80/100\n",
            "32/32 [==============================] - 1s 37ms/step - loss: 0.1345 - accuracy: 0.9382 - val_loss: 0.1756 - val_accuracy: 0.9269\n",
            "Epoch 81/100\n",
            "32/32 [==============================] - 1s 37ms/step - loss: 0.0970 - accuracy: 0.9580 - val_loss: 0.1874 - val_accuracy: 0.9224\n",
            "Epoch 82/100\n",
            "32/32 [==============================] - 1s 37ms/step - loss: 0.1137 - accuracy: 0.9479 - val_loss: 0.2214 - val_accuracy: 0.9361\n",
            "Epoch 83/100\n",
            "32/32 [==============================] - 1s 37ms/step - loss: 0.1124 - accuracy: 0.9508 - val_loss: 0.1956 - val_accuracy: 0.9452\n",
            "Epoch 84/100\n",
            "32/32 [==============================] - 1s 38ms/step - loss: 0.1059 - accuracy: 0.9555 - val_loss: 0.2318 - val_accuracy: 0.9269\n",
            "Epoch 85/100\n",
            "32/32 [==============================] - 1s 37ms/step - loss: 0.1026 - accuracy: 0.9525 - val_loss: 0.2673 - val_accuracy: 0.9315\n",
            "Epoch 86/100\n",
            "32/32 [==============================] - 1s 36ms/step - loss: 0.1431 - accuracy: 0.9403 - val_loss: 0.2110 - val_accuracy: 0.9269\n",
            "Epoch 87/100\n",
            "32/32 [==============================] - 1s 37ms/step - loss: 0.1779 - accuracy: 0.9253 - val_loss: 0.1689 - val_accuracy: 0.9269\n",
            "Epoch 88/100\n",
            "32/32 [==============================] - 1s 38ms/step - loss: 0.1523 - accuracy: 0.9355 - val_loss: 0.1777 - val_accuracy: 0.9269\n",
            "Epoch 89/100\n",
            "32/32 [==============================] - 1s 37ms/step - loss: 0.1306 - accuracy: 0.9379 - val_loss: 0.1732 - val_accuracy: 0.9315\n",
            "Epoch 90/100\n",
            "32/32 [==============================] - 1s 37ms/step - loss: 0.0954 - accuracy: 0.9634 - val_loss: 0.2062 - val_accuracy: 0.9178\n",
            "Epoch 91/100\n",
            "32/32 [==============================] - 1s 38ms/step - loss: 0.0961 - accuracy: 0.9643 - val_loss: 0.1813 - val_accuracy: 0.9452\n",
            "Epoch 92/100\n",
            "32/32 [==============================] - 1s 38ms/step - loss: 0.1008 - accuracy: 0.9589 - val_loss: 0.2698 - val_accuracy: 0.9178\n",
            "Epoch 93/100\n",
            "32/32 [==============================] - 1s 37ms/step - loss: 0.1035 - accuracy: 0.9618 - val_loss: 0.2069 - val_accuracy: 0.9315\n",
            "Epoch 94/100\n",
            "32/32 [==============================] - 1s 37ms/step - loss: 0.0895 - accuracy: 0.9614 - val_loss: 0.2394 - val_accuracy: 0.9132\n",
            "Epoch 95/100\n",
            "32/32 [==============================] - 1s 37ms/step - loss: 0.1118 - accuracy: 0.9412 - val_loss: 0.2251 - val_accuracy: 0.9224\n",
            "Epoch 96/100\n",
            "32/32 [==============================] - 1s 37ms/step - loss: 0.1182 - accuracy: 0.9539 - val_loss: 0.2216 - val_accuracy: 0.9178\n",
            "Epoch 97/100\n",
            "32/32 [==============================] - 1s 37ms/step - loss: 0.1136 - accuracy: 0.9564 - val_loss: 0.2065 - val_accuracy: 0.9178\n",
            "Epoch 98/100\n",
            "32/32 [==============================] - 1s 36ms/step - loss: 0.0917 - accuracy: 0.9634 - val_loss: 0.1962 - val_accuracy: 0.9361\n",
            "Epoch 99/100\n",
            "32/32 [==============================] - 1s 36ms/step - loss: 0.0981 - accuracy: 0.9616 - val_loss: 0.2142 - val_accuracy: 0.9452\n",
            "Epoch 100/100\n",
            "32/32 [==============================] - 1s 37ms/step - loss: 0.1036 - accuracy: 0.9502 - val_loss: 0.2804 - val_accuracy: 0.9041\n"
          ],
          "name": "stdout"
        }
      ]
    },
    {
      "cell_type": "code",
      "metadata": {
        "id": "4DSI7kgJIW9L",
        "colab": {
          "base_uri": "https://localhost:8080/",
          "height": 295
        },
        "outputId": "d49506e9-428d-49a3-baf0-8bc0b7964e59"
      },
      "source": [
        "plt.plot(hist_2.history['loss'])\n",
        "plt.plot(hist_2.history['val_loss'])\n",
        "plt.title('Model loss')\n",
        "plt.ylabel('Loss')\n",
        "plt.xlabel('Epoch')\n",
        "plt.legend(['Train', 'Val'], loc='upper right')\n",
        "plt.show()"
      ],
      "execution_count": 26,
      "outputs": [
        {
          "output_type": "display_data",
          "data": {
            "image/png": "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\n",
            "text/plain": [
              "<Figure size 432x288 with 1 Axes>"
            ]
          },
          "metadata": {
            "tags": [],
            "needs_background": "light"
          }
        }
      ]
    },
    {
      "cell_type": "code",
      "metadata": {
        "id": "lyQzyB0NJAQj",
        "colab": {
          "base_uri": "https://localhost:8080/",
          "height": 295
        },
        "outputId": "fd4095c8-92f1-458e-a5ca-454e1dc1bec5"
      },
      "source": [
        "plt.plot(hist_2.history['accuracy'])\n",
        "plt.plot(hist_2.history['val_accuracy'])\n",
        "plt.title('Model accuracy')\n",
        "plt.ylabel('Accuracy')\n",
        "plt.xlabel('Epoch')\n",
        "plt.legend(['Train', 'Val'], loc='lower right')\n",
        "plt.show()"
      ],
      "execution_count": 27,
      "outputs": [
        {
          "output_type": "display_data",
          "data": {
            "image/png": "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\n",
            "text/plain": [
              "<Figure size 432x288 with 1 Axes>"
            ]
          },
          "metadata": {
            "tags": [],
            "needs_background": "light"
          }
        }
      ]
    },
    {
      "cell_type": "markdown",
      "metadata": {
        "id": "w_MwY7dHJXpj"
      },
      "source": [
        "# Additional Model to Reduce the Over-Fitting in Model 2"
      ]
    },
    {
      "cell_type": "code",
      "metadata": {
        "id": "vOwj4sJfJcAc"
      },
      "source": [
        "from keras.layers import Dropout\n",
        "from keras import regularizers"
      ],
      "execution_count": 28,
      "outputs": []
    },
    {
      "cell_type": "code",
      "metadata": {
        "id": "aEs9gBFDJd8I"
      },
      "source": [
        "model_3 = Sequential([\n",
        "    Dense(1000, activation='relu', kernel_regularizer=regularizers.l2(0.01), input_shape=(10,)),\n",
        "    Dropout(0.3),\n",
        "    Dense(1000, activation='relu', kernel_regularizer=regularizers.l2(0.01)),\n",
        "    Dropout(0.3),\n",
        "    Dense(1000, activation='relu', kernel_regularizer=regularizers.l2(0.01)),\n",
        "    Dropout(0.3),\n",
        "    Dense(1000, activation='relu', kernel_regularizer=regularizers.l2(0.01)),\n",
        "    Dropout(0.3),\n",
        "    Dense(1, activation='sigmoid', kernel_regularizer=regularizers.l2(0.01)),\n",
        "])"
      ],
      "execution_count": 29,
      "outputs": []
    },
    {
      "cell_type": "code",
      "metadata": {
        "id": "Rh5XYQy0Jtzi"
      },
      "source": [
        "model_3.compile(optimizer='adam',\n",
        "              loss='binary_crossentropy',\n",
        "              metrics=['accuracy'])"
      ],
      "execution_count": 30,
      "outputs": []
    },
    {
      "cell_type": "code",
      "metadata": {
        "colab": {
          "base_uri": "https://localhost:8080/"
        },
        "id": "SuxsqwQ3JwF-",
        "outputId": "bda05216-e82e-41b4-acef-f33d1c2d2d70"
      },
      "source": [
        "hist_3 = model_3.fit(X_train, Y_train,\n",
        "          batch_size=32, epochs=100,\n",
        "          validation_data=(X_val, Y_val))"
      ],
      "execution_count": 31,
      "outputs": [
        {
          "output_type": "stream",
          "text": [
            "Epoch 1/100\n",
            "32/32 [==============================] - 4s 63ms/step - loss: 21.0897 - accuracy: 0.5631 - val_loss: 3.8703 - val_accuracy: 0.8447\n",
            "Epoch 2/100\n",
            "32/32 [==============================] - 2s 48ms/step - loss: 2.4898 - accuracy: 0.8163 - val_loss: 0.6180 - val_accuracy: 0.9132\n",
            "Epoch 3/100\n",
            "32/32 [==============================] - 2s 49ms/step - loss: 0.5829 - accuracy: 0.8657 - val_loss: 0.4864 - val_accuracy: 0.8676\n",
            "Epoch 4/100\n",
            "32/32 [==============================] - 2s 47ms/step - loss: 0.5575 - accuracy: 0.8420 - val_loss: 0.4594 - val_accuracy: 0.8676\n",
            "Epoch 5/100\n",
            "32/32 [==============================] - 2s 47ms/step - loss: 0.4929 - accuracy: 0.8676 - val_loss: 0.4316 - val_accuracy: 0.9087\n",
            "Epoch 6/100\n",
            "32/32 [==============================] - 2s 47ms/step - loss: 0.5037 - accuracy: 0.8687 - val_loss: 0.4231 - val_accuracy: 0.9178\n",
            "Epoch 7/100\n",
            "32/32 [==============================] - 2s 47ms/step - loss: 0.5171 - accuracy: 0.8521 - val_loss: 0.4106 - val_accuracy: 0.9269\n",
            "Epoch 8/100\n",
            "32/32 [==============================] - 2s 47ms/step - loss: 0.4807 - accuracy: 0.8660 - val_loss: 0.4185 - val_accuracy: 0.9178\n",
            "Epoch 9/100\n",
            "32/32 [==============================] - 2s 47ms/step - loss: 0.4576 - accuracy: 0.8844 - val_loss: 0.4061 - val_accuracy: 0.9087\n",
            "Epoch 10/100\n",
            "32/32 [==============================] - 2s 49ms/step - loss: 0.4600 - accuracy: 0.8882 - val_loss: 0.4269 - val_accuracy: 0.8767\n",
            "Epoch 11/100\n",
            "32/32 [==============================] - 2s 48ms/step - loss: 0.4661 - accuracy: 0.8776 - val_loss: 0.4254 - val_accuracy: 0.8721\n",
            "Epoch 12/100\n",
            "32/32 [==============================] - 1s 47ms/step - loss: 0.4735 - accuracy: 0.8817 - val_loss: 0.4154 - val_accuracy: 0.8858\n",
            "Epoch 13/100\n",
            "32/32 [==============================] - 2s 48ms/step - loss: 0.4724 - accuracy: 0.8749 - val_loss: 0.3931 - val_accuracy: 0.9087\n",
            "Epoch 14/100\n",
            "32/32 [==============================] - 2s 47ms/step - loss: 0.4608 - accuracy: 0.8767 - val_loss: 0.3980 - val_accuracy: 0.8950\n",
            "Epoch 15/100\n",
            "32/32 [==============================] - 2s 48ms/step - loss: 0.4812 - accuracy: 0.8704 - val_loss: 0.3991 - val_accuracy: 0.9224\n",
            "Epoch 16/100\n",
            "32/32 [==============================] - 2s 48ms/step - loss: 0.4643 - accuracy: 0.8784 - val_loss: 0.4029 - val_accuracy: 0.9224\n",
            "Epoch 17/100\n",
            "32/32 [==============================] - 2s 49ms/step - loss: 0.4306 - accuracy: 0.9085 - val_loss: 0.4150 - val_accuracy: 0.8904\n",
            "Epoch 18/100\n",
            "32/32 [==============================] - 2s 48ms/step - loss: 0.4726 - accuracy: 0.8760 - val_loss: 0.4006 - val_accuracy: 0.9132\n",
            "Epoch 19/100\n",
            "32/32 [==============================] - 2s 49ms/step - loss: 0.4490 - accuracy: 0.8854 - val_loss: 0.3793 - val_accuracy: 0.9178\n",
            "Epoch 20/100\n",
            "32/32 [==============================] - 2s 48ms/step - loss: 0.4208 - accuracy: 0.8946 - val_loss: 0.5190 - val_accuracy: 0.8402\n",
            "Epoch 21/100\n",
            "32/32 [==============================] - 2s 49ms/step - loss: 0.4899 - accuracy: 0.8707 - val_loss: 0.4386 - val_accuracy: 0.8904\n",
            "Epoch 22/100\n",
            "32/32 [==============================] - 2s 48ms/step - loss: 0.4675 - accuracy: 0.8667 - val_loss: 0.3835 - val_accuracy: 0.9087\n",
            "Epoch 23/100\n",
            "32/32 [==============================] - 2s 48ms/step - loss: 0.4592 - accuracy: 0.8679 - val_loss: 0.4144 - val_accuracy: 0.8767\n",
            "Epoch 24/100\n",
            "32/32 [==============================] - 2s 48ms/step - loss: 0.4585 - accuracy: 0.8852 - val_loss: 0.4109 - val_accuracy: 0.8767\n",
            "Epoch 25/100\n",
            "32/32 [==============================] - 2s 48ms/step - loss: 0.4561 - accuracy: 0.8815 - val_loss: 0.3799 - val_accuracy: 0.9132\n",
            "Epoch 26/100\n",
            "32/32 [==============================] - 2s 49ms/step - loss: 0.4259 - accuracy: 0.9069 - val_loss: 0.4031 - val_accuracy: 0.8813\n",
            "Epoch 27/100\n",
            "32/32 [==============================] - 2s 48ms/step - loss: 0.4799 - accuracy: 0.8595 - val_loss: 0.4058 - val_accuracy: 0.9224\n",
            "Epoch 28/100\n",
            "32/32 [==============================] - 2s 49ms/step - loss: 0.4522 - accuracy: 0.8881 - val_loss: 0.3993 - val_accuracy: 0.8904\n",
            "Epoch 29/100\n",
            "32/32 [==============================] - 2s 49ms/step - loss: 0.4239 - accuracy: 0.8992 - val_loss: 0.4363 - val_accuracy: 0.8767\n",
            "Epoch 30/100\n",
            "32/32 [==============================] - 2s 49ms/step - loss: 0.4656 - accuracy: 0.8731 - val_loss: 0.3995 - val_accuracy: 0.8904\n",
            "Epoch 31/100\n",
            "32/32 [==============================] - 2s 48ms/step - loss: 0.4495 - accuracy: 0.8885 - val_loss: 0.3839 - val_accuracy: 0.9041\n",
            "Epoch 32/100\n",
            "32/32 [==============================] - 2s 50ms/step - loss: 0.4444 - accuracy: 0.8836 - val_loss: 0.3897 - val_accuracy: 0.8904\n",
            "Epoch 33/100\n",
            "32/32 [==============================] - 2s 49ms/step - loss: 0.4551 - accuracy: 0.8863 - val_loss: 0.3787 - val_accuracy: 0.9132\n",
            "Epoch 34/100\n",
            "32/32 [==============================] - 2s 48ms/step - loss: 0.4245 - accuracy: 0.8983 - val_loss: 0.4301 - val_accuracy: 0.8858\n",
            "Epoch 35/100\n",
            "32/32 [==============================] - 2s 47ms/step - loss: 0.4376 - accuracy: 0.8953 - val_loss: 0.3786 - val_accuracy: 0.9178\n",
            "Epoch 36/100\n",
            "32/32 [==============================] - 2s 48ms/step - loss: 0.4222 - accuracy: 0.8821 - val_loss: 0.3811 - val_accuracy: 0.9041\n",
            "Epoch 37/100\n",
            "32/32 [==============================] - 2s 49ms/step - loss: 0.4433 - accuracy: 0.8835 - val_loss: 0.4206 - val_accuracy: 0.9041\n",
            "Epoch 38/100\n",
            "32/32 [==============================] - 2s 48ms/step - loss: 0.5015 - accuracy: 0.8482 - val_loss: 0.3773 - val_accuracy: 0.9132\n",
            "Epoch 39/100\n",
            "32/32 [==============================] - 2s 48ms/step - loss: 0.4463 - accuracy: 0.8797 - val_loss: 0.4084 - val_accuracy: 0.8904\n",
            "Epoch 40/100\n",
            "32/32 [==============================] - 2s 48ms/step - loss: 0.4367 - accuracy: 0.8868 - val_loss: 0.3773 - val_accuracy: 0.9178\n",
            "Epoch 41/100\n",
            "32/32 [==============================] - 2s 48ms/step - loss: 0.4641 - accuracy: 0.8767 - val_loss: 0.3951 - val_accuracy: 0.9132\n",
            "Epoch 42/100\n",
            "32/32 [==============================] - 2s 49ms/step - loss: 0.4690 - accuracy: 0.8775 - val_loss: 0.4002 - val_accuracy: 0.8904\n",
            "Epoch 43/100\n",
            "32/32 [==============================] - 2s 48ms/step - loss: 0.4479 - accuracy: 0.8817 - val_loss: 0.4107 - val_accuracy: 0.9132\n",
            "Epoch 44/100\n",
            "32/32 [==============================] - 2s 49ms/step - loss: 0.4626 - accuracy: 0.8757 - val_loss: 0.3778 - val_accuracy: 0.9178\n",
            "Epoch 45/100\n",
            "32/32 [==============================] - 2s 50ms/step - loss: 0.4635 - accuracy: 0.8800 - val_loss: 0.3825 - val_accuracy: 0.9041\n",
            "Epoch 46/100\n",
            "32/32 [==============================] - 2s 49ms/step - loss: 0.4163 - accuracy: 0.9017 - val_loss: 0.3953 - val_accuracy: 0.8813\n",
            "Epoch 47/100\n",
            "32/32 [==============================] - 2s 49ms/step - loss: 0.4233 - accuracy: 0.8968 - val_loss: 0.3974 - val_accuracy: 0.8858\n",
            "Epoch 48/100\n",
            "32/32 [==============================] - 2s 48ms/step - loss: 0.4510 - accuracy: 0.8653 - val_loss: 0.3714 - val_accuracy: 0.9132\n",
            "Epoch 49/100\n",
            "32/32 [==============================] - 2s 49ms/step - loss: 0.4551 - accuracy: 0.8752 - val_loss: 0.3785 - val_accuracy: 0.9041\n",
            "Epoch 50/100\n",
            "32/32 [==============================] - 2s 50ms/step - loss: 0.4428 - accuracy: 0.8728 - val_loss: 0.3696 - val_accuracy: 0.9178\n",
            "Epoch 51/100\n",
            "32/32 [==============================] - 2s 50ms/step - loss: 0.4170 - accuracy: 0.9089 - val_loss: 0.3840 - val_accuracy: 0.9041\n",
            "Epoch 52/100\n",
            "32/32 [==============================] - 2s 49ms/step - loss: 0.4374 - accuracy: 0.8816 - val_loss: 0.4358 - val_accuracy: 0.8813\n",
            "Epoch 53/100\n",
            "32/32 [==============================] - 2s 51ms/step - loss: 0.4691 - accuracy: 0.8584 - val_loss: 0.4064 - val_accuracy: 0.9087\n",
            "Epoch 54/100\n",
            "32/32 [==============================] - 2s 49ms/step - loss: 0.4541 - accuracy: 0.8664 - val_loss: 0.3726 - val_accuracy: 0.9178\n",
            "Epoch 55/100\n",
            "32/32 [==============================] - 2s 49ms/step - loss: 0.4232 - accuracy: 0.8979 - val_loss: 0.3733 - val_accuracy: 0.9178\n",
            "Epoch 56/100\n",
            "32/32 [==============================] - 2s 50ms/step - loss: 0.4579 - accuracy: 0.8653 - val_loss: 0.4072 - val_accuracy: 0.8813\n",
            "Epoch 57/100\n",
            "32/32 [==============================] - 2s 52ms/step - loss: 0.4399 - accuracy: 0.8759 - val_loss: 0.3925 - val_accuracy: 0.8950\n",
            "Epoch 58/100\n",
            "32/32 [==============================] - 2s 50ms/step - loss: 0.4397 - accuracy: 0.8925 - val_loss: 0.3744 - val_accuracy: 0.9132\n",
            "Epoch 59/100\n",
            "32/32 [==============================] - 2s 50ms/step - loss: 0.4538 - accuracy: 0.8859 - val_loss: 0.3851 - val_accuracy: 0.9041\n",
            "Epoch 60/100\n",
            "32/32 [==============================] - 2s 50ms/step - loss: 0.4601 - accuracy: 0.8812 - val_loss: 0.3832 - val_accuracy: 0.9041\n",
            "Epoch 61/100\n",
            "32/32 [==============================] - 2s 52ms/step - loss: 0.4457 - accuracy: 0.8804 - val_loss: 0.3756 - val_accuracy: 0.9132\n",
            "Epoch 62/100\n",
            "32/32 [==============================] - 2s 51ms/step - loss: 0.4438 - accuracy: 0.8766 - val_loss: 0.3745 - val_accuracy: 0.9132\n",
            "Epoch 63/100\n",
            "32/32 [==============================] - 2s 51ms/step - loss: 0.4438 - accuracy: 0.8948 - val_loss: 0.3711 - val_accuracy: 0.9178\n",
            "Epoch 64/100\n",
            "32/32 [==============================] - 2s 49ms/step - loss: 0.4159 - accuracy: 0.9076 - val_loss: 0.3927 - val_accuracy: 0.8995\n",
            "Epoch 65/100\n",
            "32/32 [==============================] - 2s 51ms/step - loss: 0.4490 - accuracy: 0.8671 - val_loss: 0.3962 - val_accuracy: 0.8813\n",
            "Epoch 66/100\n",
            "32/32 [==============================] - 2s 49ms/step - loss: 0.4613 - accuracy: 0.8702 - val_loss: 0.3727 - val_accuracy: 0.9132\n",
            "Epoch 67/100\n",
            "32/32 [==============================] - 2s 51ms/step - loss: 0.4545 - accuracy: 0.8769 - val_loss: 0.3864 - val_accuracy: 0.9132\n",
            "Epoch 68/100\n",
            "32/32 [==============================] - 2s 50ms/step - loss: 0.4115 - accuracy: 0.9041 - val_loss: 0.3971 - val_accuracy: 0.9132\n",
            "Epoch 69/100\n",
            "32/32 [==============================] - 2s 49ms/step - loss: 0.4388 - accuracy: 0.8793 - val_loss: 0.3889 - val_accuracy: 0.9178\n",
            "Epoch 70/100\n",
            "32/32 [==============================] - 2s 50ms/step - loss: 0.4393 - accuracy: 0.8854 - val_loss: 0.3904 - val_accuracy: 0.9178\n",
            "Epoch 71/100\n",
            "32/32 [==============================] - 2s 48ms/step - loss: 0.4467 - accuracy: 0.8766 - val_loss: 0.3839 - val_accuracy: 0.8995\n",
            "Epoch 72/100\n",
            "32/32 [==============================] - 2s 50ms/step - loss: 0.4505 - accuracy: 0.8795 - val_loss: 0.3783 - val_accuracy: 0.9132\n",
            "Epoch 73/100\n",
            "32/32 [==============================] - 2s 50ms/step - loss: 0.4240 - accuracy: 0.8922 - val_loss: 0.3696 - val_accuracy: 0.9178\n",
            "Epoch 74/100\n",
            "32/32 [==============================] - 2s 50ms/step - loss: 0.4129 - accuracy: 0.8934 - val_loss: 0.3772 - val_accuracy: 0.9132\n",
            "Epoch 75/100\n",
            "32/32 [==============================] - 2s 50ms/step - loss: 0.4497 - accuracy: 0.8770 - val_loss: 0.3710 - val_accuracy: 0.9132\n",
            "Epoch 76/100\n",
            "32/32 [==============================] - 2s 51ms/step - loss: 0.4745 - accuracy: 0.8538 - val_loss: 0.3746 - val_accuracy: 0.9178\n",
            "Epoch 77/100\n",
            "32/32 [==============================] - 2s 52ms/step - loss: 0.4851 - accuracy: 0.8497 - val_loss: 0.3705 - val_accuracy: 0.9178\n",
            "Epoch 78/100\n",
            "32/32 [==============================] - 2s 50ms/step - loss: 0.4719 - accuracy: 0.8630 - val_loss: 0.4190 - val_accuracy: 0.8813\n",
            "Epoch 79/100\n",
            "32/32 [==============================] - 2s 52ms/step - loss: 0.4474 - accuracy: 0.8811 - val_loss: 0.3840 - val_accuracy: 0.8950\n",
            "Epoch 80/100\n",
            "32/32 [==============================] - 2s 51ms/step - loss: 0.4505 - accuracy: 0.8805 - val_loss: 0.3834 - val_accuracy: 0.8995\n",
            "Epoch 81/100\n",
            "32/32 [==============================] - 2s 51ms/step - loss: 0.4450 - accuracy: 0.8745 - val_loss: 0.3774 - val_accuracy: 0.9041\n",
            "Epoch 82/100\n",
            "32/32 [==============================] - 2s 52ms/step - loss: 0.4301 - accuracy: 0.8867 - val_loss: 0.3886 - val_accuracy: 0.8995\n",
            "Epoch 83/100\n",
            "32/32 [==============================] - 2s 51ms/step - loss: 0.4454 - accuracy: 0.8807 - val_loss: 0.4368 - val_accuracy: 0.8858\n",
            "Epoch 84/100\n",
            "32/32 [==============================] - 2s 51ms/step - loss: 0.4560 - accuracy: 0.8804 - val_loss: 0.3791 - val_accuracy: 0.9178\n",
            "Epoch 85/100\n",
            "32/32 [==============================] - 2s 50ms/step - loss: 0.4350 - accuracy: 0.8969 - val_loss: 0.4108 - val_accuracy: 0.8813\n",
            "Epoch 86/100\n",
            "32/32 [==============================] - 2s 48ms/step - loss: 0.4399 - accuracy: 0.8754 - val_loss: 0.3718 - val_accuracy: 0.9178\n",
            "Epoch 87/100\n",
            "32/32 [==============================] - 2s 49ms/step - loss: 0.4475 - accuracy: 0.8802 - val_loss: 0.3767 - val_accuracy: 0.9087\n",
            "Epoch 88/100\n",
            "32/32 [==============================] - 2s 48ms/step - loss: 0.4318 - accuracy: 0.8830 - val_loss: 0.3893 - val_accuracy: 0.9178\n",
            "Epoch 89/100\n",
            "32/32 [==============================] - 2s 50ms/step - loss: 0.4871 - accuracy: 0.8669 - val_loss: 0.3730 - val_accuracy: 0.9132\n",
            "Epoch 90/100\n",
            "32/32 [==============================] - 2s 49ms/step - loss: 0.4332 - accuracy: 0.8752 - val_loss: 0.3783 - val_accuracy: 0.9041\n",
            "Epoch 91/100\n",
            "32/32 [==============================] - 2s 49ms/step - loss: 0.4737 - accuracy: 0.8450 - val_loss: 0.3751 - val_accuracy: 0.9132\n",
            "Epoch 92/100\n",
            "32/32 [==============================] - 2s 48ms/step - loss: 0.4433 - accuracy: 0.8989 - val_loss: 0.3807 - val_accuracy: 0.9041\n",
            "Epoch 93/100\n",
            "32/32 [==============================] - 2s 51ms/step - loss: 0.4523 - accuracy: 0.8821 - val_loss: 0.4152 - val_accuracy: 0.8813\n",
            "Epoch 94/100\n",
            "32/32 [==============================] - 2s 50ms/step - loss: 0.4731 - accuracy: 0.8717 - val_loss: 0.3812 - val_accuracy: 0.8995\n",
            "Epoch 95/100\n",
            "32/32 [==============================] - 2s 51ms/step - loss: 0.4372 - accuracy: 0.8980 - val_loss: 0.3720 - val_accuracy: 0.9178\n",
            "Epoch 96/100\n",
            "32/32 [==============================] - 2s 49ms/step - loss: 0.4481 - accuracy: 0.8975 - val_loss: 0.4194 - val_accuracy: 0.8858\n",
            "Epoch 97/100\n",
            "32/32 [==============================] - 2s 48ms/step - loss: 0.4569 - accuracy: 0.8667 - val_loss: 0.4100 - val_accuracy: 0.9087\n",
            "Epoch 98/100\n",
            "32/32 [==============================] - 2s 49ms/step - loss: 0.4962 - accuracy: 0.8501 - val_loss: 0.3804 - val_accuracy: 0.9132\n",
            "Epoch 99/100\n",
            "32/32 [==============================] - 2s 49ms/step - loss: 0.4540 - accuracy: 0.8695 - val_loss: 0.3972 - val_accuracy: 0.8858\n",
            "Epoch 100/100\n",
            "32/32 [==============================] - 2s 48ms/step - loss: 0.4285 - accuracy: 0.8777 - val_loss: 0.3709 - val_accuracy: 0.9178\n"
          ],
          "name": "stdout"
        }
      ]
    },
    {
      "cell_type": "code",
      "metadata": {
        "id": "2y0SCwg0J0-x",
        "colab": {
          "base_uri": "https://localhost:8080/",
          "height": 295
        },
        "outputId": "603ce295-a95d-4adb-a100-723a9d2c135b"
      },
      "source": [
        "plt.plot(hist_3.history['loss'])\n",
        "plt.plot(hist_3.history['val_loss'])\n",
        "plt.title('Model loss')\n",
        "plt.ylabel('Loss')\n",
        "plt.xlabel('Epoch')\n",
        "plt.legend(['Train', 'Val'], loc='upper right')\n",
        "plt.ylim(top=1.2, bottom=0)\n",
        "plt.show()"
      ],
      "execution_count": 32,
      "outputs": [
        {
          "output_type": "display_data",
          "data": {
            "image/png": "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\n",
            "text/plain": [
              "<Figure size 432x288 with 1 Axes>"
            ]
          },
          "metadata": {
            "tags": [],
            "needs_background": "light"
          }
        }
      ]
    },
    {
      "cell_type": "code",
      "metadata": {
        "id": "N5-6m0q-KzaD",
        "colab": {
          "base_uri": "https://localhost:8080/",
          "height": 295
        },
        "outputId": "68667ea5-0929-4ecc-dc89-0b88f700c563"
      },
      "source": [
        "plt.plot(hist_3.history['accuracy'])\n",
        "plt.plot(hist_3.history['val_accuracy'])\n",
        "plt.title('Model accuracy')\n",
        "plt.ylabel('Accuracy')\n",
        "plt.xlabel('Epoch')\n",
        "plt.legend(['Train', 'Val'], loc='lower right')\n",
        "plt.show()"
      ],
      "execution_count": 33,
      "outputs": [
        {
          "output_type": "display_data",
          "data": {
            "image/png": "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\n",
            "text/plain": [
              "<Figure size 432x288 with 1 Axes>"
            ]
          },
          "metadata": {
            "tags": [],
            "needs_background": "light"
          }
        }
      ]
    }
  ]
}
