{
 "cells": [
  {
   "cell_type": "code",
   "execution_count": 1,
   "id": "70bbe17a",
   "metadata": {},
   "outputs": [],
   "source": [
    "from sklearn.datasets import load_iris\n",
    "from sklearn import tree"
   ]
  },
  {
   "cell_type": "code",
   "execution_count": 2,
   "id": "134ee181",
   "metadata": {},
   "outputs": [],
   "source": [
    "iris_data = load_iris()\n",
    "classification_tree = tree.DecisionTreeClassifier()\n",
    "\n",
    "classification_tree = classification_tree.fit(iris_data.data, iris_data.target)"
   ]
  },
  {
   "cell_type": "code",
   "execution_count": 3,
   "id": "30788f52",
   "metadata": {},
   "outputs": [],
   "source": [
    "import graphviz \n",
    "dot_data = tree.export_graphviz(classification_tree, out_file=None, \n",
    "                     feature_names=iris_data.feature_names,  \n",
    "                     class_names=iris_data.target_names,  \n",
    "                     filled=True, rounded=True,  \n",
    "                     special_characters=True)  \n"
   ]
  },
  {
   "cell_type": "code",
   "execution_count": 4,
   "id": "35a9c8cf",
   "metadata": {},
   "outputs": [
    {
     "data": {
      "text/plain": [
       "'Visualization graph for day 3.pdf'"
      ]
     },
     "execution_count": 4,
     "metadata": {},
     "output_type": "execute_result"
    }
   ],
   "source": [
    "graph = graphviz.Source(dot_data)  \n",
    "graph.render(\"Visualization graph for day 3\") "
   ]
  },
  {
   "cell_type": "code",
   "execution_count": null,
   "id": "c875f319",
   "metadata": {},
   "outputs": [],
   "source": []
  },
  {
   "cell_type": "code",
   "execution_count": null,
   "id": "2db50111",
   "metadata": {},
   "outputs": [],
   "source": []
  },
  {
   "cell_type": "code",
   "execution_count": null,
   "id": "7607d7e0",
   "metadata": {},
   "outputs": [],
   "source": []
  }
 ],
 "metadata": {
  "kernelspec": {
   "display_name": "Python 3 (ipykernel)",
   "language": "python",
   "name": "python3"
  },
  "language_info": {
   "codemirror_mode": {
    "name": "ipython",
    "version": 3
   },
   "file_extension": ".py",
   "mimetype": "text/x-python",
   "name": "python",
   "nbconvert_exporter": "python",
   "pygments_lexer": "ipython3",
   "version": "3.9.5"
  }
 },
 "nbformat": 4,
 "nbformat_minor": 5
}
